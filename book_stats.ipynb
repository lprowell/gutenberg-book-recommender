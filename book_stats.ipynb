{
 "cells": [
  {
   "cell_type": "code",
   "execution_count": 1,
   "metadata": {
    "collapsed": false
   },
   "outputs": [
    {
     "name": "stderr",
     "output_type": "stream",
     "text": [
      "INFO:rdflib:RDFLib Version: 4.2.1\n"
     ]
    }
   ],
   "source": [
    "import pandas as pd\n",
    "import numpy as np\n",
    "import matplotlib.pyplot as plt\n",
    "import seaborn as sns\n",
    "\n",
    "from gutenberg.acquire import load_etext\n",
    "from gutenberg.cleanup import strip_headers\n",
    "\n",
    "%matplotlib inline\n",
    "%config InlineBackend.feature_format = 'retina'"
   ]
  },
  {
   "cell_type": "code",
   "execution_count": 2,
   "metadata": {
    "collapsed": true
   },
   "outputs": [],
   "source": [
    "meta_df = pd.read_csv('gutenberg_metadata_en.csv', index_col = 'Unnamed: 0')"
   ]
  },
  {
   "cell_type": "code",
   "execution_count": 3,
   "metadata": {
    "collapsed": true
   },
   "outputs": [],
   "source": [
    "meta_df['subjects2'] = meta_df['subjects2'].map(lambda s: s.replace('[', '').replace(']', '').split(','))"
   ]
  },
  {
   "cell_type": "code",
   "execution_count": 4,
   "metadata": {
    "collapsed": true
   },
   "outputs": [],
   "source": [
    "meta_df['literature'] = meta_df['subjects2'].map(lambda sub: 1 if 'literature' in str(sub).lower().replace(\"'\", '') else 0)\n",
    "meta_df['fiction'] = meta_df['subjects2'].map(lambda sub: 1 if 'fiction' in str(sub).lower().replace(\"'\", '') else 0)"
   ]
  },
  {
   "cell_type": "code",
   "execution_count": 5,
   "metadata": {
    "collapsed": true
   },
   "outputs": [],
   "source": [
    "lit_fiction = meta_df[(meta_df.literature == 1) | (meta_df.fiction == 1)].reset_index(drop = True)"
   ]
  },
  {
   "cell_type": "code",
   "execution_count": 6,
   "metadata": {
    "collapsed": true
   },
   "outputs": [],
   "source": [
    "from textstat.textstat import textstat"
   ]
  },
  {
   "cell_type": "code",
   "execution_count": 7,
   "metadata": {
    "collapsed": true
   },
   "outputs": [],
   "source": [
    "def dialogue_count(text):\n",
    "    quotes = 0.0\n",
    "    for char in text:\n",
    "        if char == '\"':\n",
    "            quotes += 1\n",
    "    quotes /= 2.0\n",
    "    return quotes"
   ]
  },
  {
   "cell_type": "code",
   "execution_count": 8,
   "metadata": {
    "collapsed": false
   },
   "outputs": [],
   "source": [
    "def clean_sub_list(sub_list):\n",
    "    return [sub.replace('\"', '').replace(\"'\", '').replace('(', '').replace(')', '').replace('.', '').strip().lower() \n",
    "            for sub in sub_list]\n",
    "\n",
    "lit_fiction['subjects2'] = lit_fiction['subjects2'].map(clean_sub_list)"
   ]
  },
  {
   "cell_type": "code",
   "execution_count": 6,
   "metadata": {
    "collapsed": false
   },
   "outputs": [],
   "source": [
    "book_files = ['book_data_%d' %i for i in range(5, 24)]"
   ]
  },
  {
   "cell_type": "code",
   "execution_count": 24,
   "metadata": {
    "collapsed": false,
    "scrolled": true
   },
   "outputs": [
    {
     "name": "stdout",
     "output_type": "stream",
     "text": [
      "book_data_5\n",
      "dialogue done 65.5569851398\n",
      "sentence count done 755.665083885\n",
      "word count done 740.307143927\n",
      "syllable count done 862.200711012\n",
      "character count done 2.19053697586\n",
      "csv written 11.1352858543\n",
      "--------------------------------\n",
      "book_data_6\n",
      "dialogue done 61.7364280224\n",
      "sentence count done 731.738681793\n",
      "word count done 711.680989027\n",
      "syllable count done 836.206528187\n",
      "character count done 2.11522698402\n",
      "csv written 11.3417830467\n",
      "--------------------------------\n",
      "book_data_7\n",
      "dialogue done 45.4811999798\n",
      "sentence count done 556.469434023\n",
      "word count done 545.373492002\n",
      "syllable count done 637.062575102\n",
      "character count done 1.58443689346\n",
      "csv written 7.65705609322\n",
      "--------------------------------\n",
      "book_data_8\n",
      "dialogue done 55.6863679886\n",
      "sentence count done 672.79813385\n",
      "word count done 656.378375053\n",
      "syllable count done 771.27778101\n",
      "character count done 1.94704818726\n",
      "csv written 10.3010189533\n",
      "--------------------------------\n",
      "book_data_9\n",
      "dialogue done 61.5568599701\n",
      "sentence count done 713.954457045\n",
      "word count done 699.396325111\n",
      "syllable count done 818.781356096\n",
      "character count done 2.06335282326\n",
      "csv written 10.8256011009\n",
      "--------------------------------\n",
      "book_data_10\n",
      "dialogue done 56.4687769413\n",
      "sentence count done 661.605618\n",
      "word count done 645.022367954\n",
      "syllable count done 754.252515078\n",
      "character count done 1.95048308372\n",
      "csv written 9.71198821068\n",
      "--------------------------------\n",
      "book_data_11\n",
      "dialogue done 58.3555829525\n",
      "sentence count done 685.590404987\n",
      "word count done 668.019541979\n",
      "syllable count done 784.916270018\n",
      "character count done 2.02439284325\n",
      "csv written 10.773649931\n",
      "--------------------------------\n",
      "book_data_12\n",
      "dialogue done 48.2191951275\n",
      "sentence count done 574.90080905\n",
      "word count done 563.731812954\n",
      "syllable count done 658.426783085\n",
      "character count done 1.66187286377\n",
      "csv written 8.42288303375\n",
      "--------------------------------\n",
      "book_data_13\n",
      "dialogue done 37.920222044\n",
      "sentence count done 459.718038082\n",
      "word count done 450.367002964\n",
      "syllable count done 525.11103797\n",
      "character count done 1.32669901848\n",
      "csv written 6.96704316139\n",
      "--------------------------------\n",
      "book_data_14\n",
      "dialogue done 46.8031611443\n",
      "sentence count done 567.367048025\n",
      "word count done 553.897727966\n",
      "syllable count done 649.587658882\n",
      "character count done 1.62920498848\n",
      "csv written 8.85919499397\n",
      "--------------------------------\n",
      "book_data_15\n",
      "dialogue done 46.2392978668\n",
      "sentence count done 567.81140399\n",
      "word count done 553.979560137\n",
      "syllable count done 648.531031132\n",
      "character count done 1.62669610977\n",
      "csv written 8.52744197845\n",
      "--------------------------------\n",
      "book_data_16\n",
      "dialogue done 46.9883170128\n",
      "sentence count done 577.980724096\n",
      "word count done 562.603754997\n",
      "syllable count done 659.120743036\n",
      "character count done 1.65473198891\n",
      "csv written 8.7712688446\n",
      "--------------------------------\n",
      "book_data_17\n",
      "dialogue done 41.7515628338\n",
      "sentence count done 507.912647009\n",
      "word count done 497.072909832\n",
      "syllable count done 579.64873004\n",
      "character count done 1.47127318382\n",
      "csv written 7.68301105499\n",
      "--------------------------------\n",
      "book_data_18\n",
      "dialogue done 63.3514261246\n",
      "sentence count done 755.094413996\n",
      "word count done 734.555425882\n",
      "syllable count done 861.572748899\n",
      "character count done 2.17772197723\n",
      "csv written 11.4132449627\n",
      "--------------------------------\n",
      "book_data_19\n",
      "dialogue done 64.2806870937\n",
      "sentence count done 755.53706193\n",
      "word count done 740.836441994\n",
      "syllable count done 867.998806\n",
      "character count done 2.1717479229\n",
      "csv written 11.5071640015\n",
      "--------------------------------\n",
      "book_data_20\n",
      "dialogue done 58.9321460724\n",
      "sentence count done 712.387573957\n",
      "word count done 697.022125959\n",
      "syllable count done 816.134415865\n",
      "character count done 2.10951685905\n",
      "csv written 11.1096379757\n",
      "--------------------------------\n",
      "book_data_21\n",
      "dialogue done 62.9036397934\n",
      "sentence count done 736.7114079\n",
      "word count done 719.648421049\n",
      "syllable count done 844.011522055\n",
      "character count done 2.1601729393\n",
      "csv written 11.2043609619\n",
      "--------------------------------\n",
      "book_data_22\n",
      "dialogue done 56.7972939014\n",
      "sentence count done 671.990227938\n",
      "word count done 657.460100889\n",
      "syllable count done 774.753227949\n",
      "character count done 1.9423251152\n",
      "csv written 10.4117841721\n",
      "--------------------------------\n",
      "book_data_23\n",
      "dialogue done 53.6432480812\n",
      "sentence count done 659.060043097\n",
      "word count done 641.935477018\n",
      "syllable count done 755.178587198\n",
      "character count done 1.85932707787\n",
      "csv written 11.5998151302\n",
      "--------------------------------\n",
      "CPU times: user 10h 55min 5s, sys: 28min 59s, total: 11h 24min 4s\n",
      "Wall time: 11h 4min 38s\n"
     ]
    }
   ],
   "source": [
    "%%time\n",
    "\n",
    "import time\n",
    "for i, books in zip(range(5, 24), book_files):\n",
    "    print books\n",
    "    texts = pd.read_csv(books, encoding = 'utf8', index_col = 'Unnamed: 0')\n",
    "    texts.dropna(inplace=True)\n",
    "    lit_fiction_df = pd.merge(lit_fiction, texts, on = 'id')\n",
    "    lit_fiction_df['PZ'] = lit_fiction_df.LCC.map(lambda x: 1 if 'PZ' in x else 0)\n",
    "    \n",
    "    start = time.time()\n",
    "    lit_fiction_df['dialogue'] = lit_fiction_df['text'].map(dialogue_count)\n",
    "    print 'dialogue done', time.time() - start\n",
    "    \n",
    "    start = time.time()\n",
    "    lit_fiction_df['sentence_count'] = lit_fiction_df.text.map(textstat.sentence_count)\n",
    "    print 'sentence count done', time.time() - start\n",
    "    \n",
    "    lit_fiction_df['dialogue_per_sentence'] = lit_fiction_df.dialogue / lit_fiction_df.sentence_count\n",
    "    \n",
    "    start = time.time()\n",
    "    lit_fiction_df['word_count'] = lit_fiction_df.text.map(textstat.lexicon_count)\n",
    "    print 'word count done', time.time() - start\n",
    "    \n",
    "    start = time.time()\n",
    "    lit_fiction_df['syllable_count'] = lit_fiction_df.text.map(textstat.syllable_count)\n",
    "    print 'syllable count done', time.time() - start\n",
    "    \n",
    "    start = time.time()\n",
    "    lit_fiction_df['character_count'] = lit_fiction_df.text.map(textstat.char_count)\n",
    "    print 'character count done', time.time() - start\n",
    "    \n",
    "    lit_fiction_df['avg_sentence_length'] = lit_fiction_df['word_count'] / lit_fiction_df['sentence_count']\n",
    "    \n",
    "    lit_fiction_df['avg_syllables_per_word'] = lit_fiction_df['syllable_count'] / lit_fiction_df['word_count']\n",
    "    \n",
    "    lit_fiction_df['flesch_reading_ease'] = 206.835 - (1.015 * lit_fiction_df['avg_sentence_length']) - (84.6 * lit_fiction_df['avg_syllables_per_word'])\n",
    "    \n",
    "    lit_fiction_df['flesch_kincain_grade'] = (0.39 * lit_fiction_df['avg_sentence_length']) + (11.8 * lit_fiction_df['avg_syllables_per_word']) - 15.59\n",
    "    \n",
    "    lit_fiction_df['lit_LCC'] = lit_fiction_df['LCC'].map(lambda x: 1 if 'P' in x else 0)\n",
    "    \n",
    "    start = time.time()\n",
    "    lit_fiction_df.to_csv('lit_fiction_%d' %i, encoding = 'utf8')\n",
    "    print 'csv written', time.time() - start\n",
    "    print '--------------------------------'"
   ]
  },
  {
   "cell_type": "code",
   "execution_count": 2,
   "metadata": {
    "collapsed": true
   },
   "outputs": [],
   "source": [
    "meta_stats = pd.read_csv('lit_fiction_1', encoding = 'utf8', index_col = 'Unnamed: 0')"
   ]
  },
  {
   "cell_type": "code",
   "execution_count": 3,
   "metadata": {
    "collapsed": false
   },
   "outputs": [
    {
     "data": {
      "text/html": [
       "<div>\n",
       "<table border=\"1\" class=\"dataframe\">\n",
       "  <thead>\n",
       "    <tr style=\"text-align: right;\">\n",
       "      <th></th>\n",
       "      <th>id</th>\n",
       "      <th>title</th>\n",
       "      <th>author</th>\n",
       "      <th>LCC</th>\n",
       "      <th>downloads</th>\n",
       "      <th>subjects</th>\n",
       "      <th>subjects2</th>\n",
       "      <th>formats</th>\n",
       "      <th>authoryearofbirth</th>\n",
       "      <th>authoryearofdeath</th>\n",
       "      <th>...</th>\n",
       "      <th>dialog_per_sentence</th>\n",
       "      <th>word_count</th>\n",
       "      <th>syllable_count</th>\n",
       "      <th>character_count</th>\n",
       "      <th>avg_sentence_length</th>\n",
       "      <th>avg_syllables_per_word</th>\n",
       "      <th>flesch_reading_ease</th>\n",
       "      <th>flesch_kincain_grade</th>\n",
       "      <th>lit_LCC</th>\n",
       "      <th>childrens_subjects</th>\n",
       "    </tr>\n",
       "  </thead>\n",
       "  <tbody>\n",
       "    <tr>\n",
       "      <th>0</th>\n",
       "      <td>15</td>\n",
       "      <td>Moby Dick</td>\n",
       "      <td>Melville, Herman</td>\n",
       "      <td>{PS}</td>\n",
       "      <td>707</td>\n",
       "      <td>{Ship captains -- Fiction, Whaling ships -- Fi...</td>\n",
       "      <td>[adventure stories, ahab, captain fictitious c...</td>\n",
       "      <td>{u'text/html': u'http://www.gutenberg.org/eboo...</td>\n",
       "      <td>1819.0</td>\n",
       "      <td>1891.0</td>\n",
       "      <td>...</td>\n",
       "      <td>0.000000</td>\n",
       "      <td>1523</td>\n",
       "      <td>2428</td>\n",
       "      <td>8400</td>\n",
       "      <td>9.889610</td>\n",
       "      <td>1.594222</td>\n",
       "      <td>61.925870</td>\n",
       "      <td>7.078767</td>\n",
       "      <td>1</td>\n",
       "      <td>0</td>\n",
       "    </tr>\n",
       "    <tr>\n",
       "      <th>1</th>\n",
       "      <td>16</td>\n",
       "      <td>Peter Pan</td>\n",
       "      <td>Barrie, J. M. (James Matthew)</td>\n",
       "      <td>{PZ, PR}</td>\n",
       "      <td>4778</td>\n",
       "      <td>{Peter Pan (Fictitious character) -- Fiction, ...</td>\n",
       "      <td>[fairies, fantasy, fiction, juvenile fiction, ...</td>\n",
       "      <td>{u'text/plain; charset=utf-8': u'http://www.gu...</td>\n",
       "      <td>1860.0</td>\n",
       "      <td>1937.0</td>\n",
       "      <td>...</td>\n",
       "      <td>0.480354</td>\n",
       "      <td>47437</td>\n",
       "      <td>67117</td>\n",
       "      <td>213803</td>\n",
       "      <td>15.532744</td>\n",
       "      <td>1.414866</td>\n",
       "      <td>71.371599</td>\n",
       "      <td>7.163189</td>\n",
       "      <td>1</td>\n",
       "      <td>1</td>\n",
       "    </tr>\n",
       "  </tbody>\n",
       "</table>\n",
       "<p>2 rows × 29 columns</p>\n",
       "</div>"
      ],
      "text/plain": [
       "   id      title                         author       LCC  downloads  \\\n",
       "0  15  Moby Dick               Melville, Herman      {PS}        707   \n",
       "1  16  Peter Pan  Barrie, J. M. (James Matthew)  {PZ, PR}       4778   \n",
       "\n",
       "                                            subjects  \\\n",
       "0  {Ship captains -- Fiction, Whaling ships -- Fi...   \n",
       "1  {Peter Pan (Fictitious character) -- Fiction, ...   \n",
       "\n",
       "                                           subjects2  \\\n",
       "0  [adventure stories, ahab, captain fictitious c...   \n",
       "1  [fairies, fantasy, fiction, juvenile fiction, ...   \n",
       "\n",
       "                                             formats  authoryearofbirth  \\\n",
       "0  {u'text/html': u'http://www.gutenberg.org/eboo...             1819.0   \n",
       "1  {u'text/plain; charset=utf-8': u'http://www.gu...             1860.0   \n",
       "\n",
       "   authoryearofdeath         ...         dialog_per_sentence word_count  \\\n",
       "0             1891.0         ...                    0.000000       1523   \n",
       "1             1937.0         ...                    0.480354      47437   \n",
       "\n",
       "   syllable_count  character_count avg_sentence_length  \\\n",
       "0            2428             8400            9.889610   \n",
       "1           67117           213803           15.532744   \n",
       "\n",
       "   avg_syllables_per_word flesch_reading_ease  flesch_kincain_grade  lit_LCC  \\\n",
       "0                1.594222           61.925870              7.078767        1   \n",
       "1                1.414866           71.371599              7.163189        1   \n",
       "\n",
       "   childrens_subjects  \n",
       "0                   0  \n",
       "1                   1  \n",
       "\n",
       "[2 rows x 29 columns]"
      ]
     },
     "execution_count": 3,
     "metadata": {},
     "output_type": "execute_result"
    }
   ],
   "source": [
    "meta_stats.head(2)"
   ]
  },
  {
   "cell_type": "code",
   "execution_count": 5,
   "metadata": {
    "collapsed": false
   },
   "outputs": [],
   "source": [
    "meta_stats.drop('text', axis = 1, inplace = True)"
   ]
  },
  {
   "cell_type": "code",
   "execution_count": 10,
   "metadata": {
    "collapsed": false
   },
   "outputs": [],
   "source": [
    "meta_stats.rename(columns = {'dialog_per_sentence':'dialogue_per_sentence'}, inplace = True)"
   ]
  },
  {
   "cell_type": "code",
   "execution_count": 12,
   "metadata": {
    "collapsed": false
   },
   "outputs": [
    {
     "data": {
      "text/plain": [
       "Index([                    u'id',                  u'title',\n",
       "                       u'author',                    u'LCC',\n",
       "                    u'downloads',               u'subjects',\n",
       "                    u'subjects2',                u'formats',\n",
       "            u'authoryearofbirth',      u'authoryearofdeath',\n",
       "                         u'type',               u'language',\n",
       "                   u'literature',                u'fiction',\n",
       "                           u'PZ',            u'title_ascii',\n",
       "                     u'dialogue',         u'sentence_count',\n",
       "        u'dialogue_per_sentence',             u'word_count',\n",
       "               u'syllable_count',        u'character_count',\n",
       "          u'avg_sentence_length', u'avg_syllables_per_word',\n",
       "          u'flesch_reading_ease',   u'flesch_kincain_grade',\n",
       "                      u'lit_LCC',     u'childrens_subjects'],\n",
       "      dtype='object')"
      ]
     },
     "execution_count": 12,
     "metadata": {},
     "output_type": "execute_result"
    }
   ],
   "source": [
    "meta_stats.columns"
   ]
  },
  {
   "cell_type": "code",
   "execution_count": 172,
   "metadata": {
    "collapsed": false
   },
   "outputs": [],
   "source": [
    "df = pd.read_csv('lit_fiction_23', encoding = 'utf8', index_col = 'Unnamed: 0')"
   ]
  },
  {
   "cell_type": "code",
   "execution_count": 173,
   "metadata": {
    "collapsed": false
   },
   "outputs": [],
   "source": [
    "df.drop('text', axis = 1, inplace = True)"
   ]
  },
  {
   "cell_type": "code",
   "execution_count": 174,
   "metadata": {
    "collapsed": false
   },
   "outputs": [
    {
     "data": {
      "text/plain": [
       "Index([u'id', u'title', u'author', u'LCC', u'downloads', u'subjects',\n",
       "       u'subjects2', u'formats', u'authoryearofbirth', u'authoryearofdeath',\n",
       "       u'type', u'language', u'literature', u'fiction', u'PZ', u'dialogue',\n",
       "       u'sentence_count', u'dialogue_per_sentence', u'word_count',\n",
       "       u'syllable_count', u'character_count', u'avg_sentence_length',\n",
       "       u'avg_syllables_per_word', u'flesch_reading_ease',\n",
       "       u'flesch_kincain_grade', u'lit_LCC'],\n",
       "      dtype='object')"
      ]
     },
     "execution_count": 174,
     "metadata": {},
     "output_type": "execute_result"
    }
   ],
   "source": [
    "df.columns"
   ]
  },
  {
   "cell_type": "code",
   "execution_count": 175,
   "metadata": {
    "collapsed": false
   },
   "outputs": [
    {
     "name": "stdout",
     "output_type": "stream",
     "text": [
      "childrens_subjects\n",
      "title_ascii\n"
     ]
    }
   ],
   "source": [
    "for col in meta_stats.columns:\n",
    "    if col not in df.columns:\n",
    "        print col"
   ]
  },
  {
   "cell_type": "code",
   "execution_count": 176,
   "metadata": {
    "collapsed": true
   },
   "outputs": [],
   "source": [
    "def restrict_text(x):\n",
    "    valid = 'abcdefghijklmnopqrstuvwxyz0123456789'\n",
    "    return ''.join([ch for ch in x if ch.lower() in valid])\n",
    "\n",
    "df['title_ascii'] = df.title.map(restrict_text)"
   ]
  },
  {
   "cell_type": "code",
   "execution_count": 177,
   "metadata": {
    "collapsed": false
   },
   "outputs": [],
   "source": [
    "meta_stats = meta_stats.append(df)"
   ]
  },
  {
   "cell_type": "code",
   "execution_count": 178,
   "metadata": {
    "collapsed": false
   },
   "outputs": [
    {
     "data": {
      "text/plain": [
       "(16035, 28)"
      ]
     },
     "execution_count": 178,
     "metadata": {},
     "output_type": "execute_result"
    }
   ],
   "source": [
    "meta_stats.shape"
   ]
  },
  {
   "cell_type": "code",
   "execution_count": 180,
   "metadata": {
    "collapsed": false
   },
   "outputs": [
    {
     "name": "stdout",
     "output_type": "stream",
     "text": [
      "<class 'pandas.core.frame.DataFrame'>\n",
      "Int64Index: 16035 entries, 0 to 644\n",
      "Data columns (total 28 columns):\n",
      "LCC                       16035 non-null object\n",
      "PZ                        16035 non-null int64\n",
      "author                    16035 non-null object\n",
      "authoryearofbirth         13428 non-null float64\n",
      "authoryearofdeath         13176 non-null float64\n",
      "avg_sentence_length       16035 non-null float64\n",
      "avg_syllables_per_word    16035 non-null float64\n",
      "character_count           16035 non-null int64\n",
      "childrens_subjects        1396 non-null float64\n",
      "dialogue                  16035 non-null float64\n",
      "dialogue_per_sentence     16035 non-null float64\n",
      "downloads                 16035 non-null int64\n",
      "fiction                   16035 non-null int64\n",
      "flesch_kincain_grade      16035 non-null float64\n",
      "flesch_reading_ease       16035 non-null float64\n",
      "formats                   16035 non-null object\n",
      "id                        16035 non-null int64\n",
      "language                  16035 non-null object\n",
      "lit_LCC                   16035 non-null int64\n",
      "literature                16035 non-null int64\n",
      "sentence_count            16035 non-null int64\n",
      "subjects                  16035 non-null object\n",
      "subjects2                 16035 non-null object\n",
      "syllable_count            16035 non-null int64\n",
      "title                     16035 non-null object\n",
      "title_ascii               16035 non-null object\n",
      "type                      16035 non-null object\n",
      "word_count                16035 non-null int64\n",
      "dtypes: float64(9), int64(10), object(9)\n",
      "memory usage: 3.5+ MB\n"
     ]
    }
   ],
   "source": [
    "meta_stats.info()"
   ]
  },
  {
   "cell_type": "code",
   "execution_count": 3,
   "metadata": {
    "collapsed": false
   },
   "outputs": [],
   "source": [
    "meta_stats['subjects2'] = meta_stats['subjects2'].map(lambda s: s.replace('[', '').replace(']', '').split(',').lower())"
   ]
  },
  {
   "cell_type": "code",
   "execution_count": 205,
   "metadata": {
    "collapsed": false
   },
   "outputs": [
    {
     "name": "stderr",
     "output_type": "stream",
     "text": [
      "/anaconda/envs/dsi/lib/python2.7/site-packages/ipykernel/__main__.py:1: SettingWithCopyWarning: \n",
      "A value is trying to be set on a copy of a slice from a DataFrame.\n",
      "Try using .loc[row_indexer,col_indexer] = value instead\n",
      "\n",
      "See the caveats in the documentation: http://pandas.pydata.org/pandas-docs/stable/indexing.html#indexing-view-versus-copy\n",
      "  if __name__ == '__main__':\n"
     ]
    }
   ],
   "source": [
    "meta_stats['childrens_subjects'] = meta_stats['subjects2'].map(lambda x: 1 if 'childrens literature' in [s.lower() for s in x] \n",
    "                               or 'childrens periodicals' in x \n",
    "                               or 'childrens plays' in x \n",
    "                               or 'childrens poetry' in x\n",
    "                               or 'childrens songs' in x\n",
    "                               or 'childrens stories' in x\n",
    "                               or 'christian literature for children' in x\n",
    "                               or 'juvenile and popular literature' in x\n",
    "                               or 'juvenile drama' in x\n",
    "                               or 'juvenile fction' in x\n",
    "                               or 'juvenile fiction' in x\n",
    "                               or 'juvenile literature' in x\n",
    "                               or 'juvenile poetry' in x\n",
    "                               else 0)"
   ]
  },
  {
   "cell_type": "code",
   "execution_count": 206,
   "metadata": {
    "collapsed": false
   },
   "outputs": [
    {
     "data": {
      "text/html": [
       "<div>\n",
       "<table border=\"1\" class=\"dataframe\">\n",
       "  <thead>\n",
       "    <tr style=\"text-align: right;\">\n",
       "      <th></th>\n",
       "      <th>id</th>\n",
       "      <th>title</th>\n",
       "      <th>title_ascii</th>\n",
       "      <th>author</th>\n",
       "      <th>authoryearofbirth</th>\n",
       "      <th>authoryearofdeath</th>\n",
       "      <th>downloads</th>\n",
       "      <th>subjects</th>\n",
       "      <th>subjects2</th>\n",
       "      <th>LCC</th>\n",
       "      <th>...</th>\n",
       "      <th>word_count</th>\n",
       "      <th>sentence_count</th>\n",
       "      <th>syllable_count</th>\n",
       "      <th>avg_sentence_length</th>\n",
       "      <th>avg_syllables_per_word</th>\n",
       "      <th>dialogue</th>\n",
       "      <th>dialogue_per_sentence</th>\n",
       "      <th>flesch_reading_ease</th>\n",
       "      <th>flesch_kincain_grade</th>\n",
       "      <th>formats</th>\n",
       "    </tr>\n",
       "  </thead>\n",
       "  <tbody>\n",
       "    <tr>\n",
       "      <th>0</th>\n",
       "      <td>15</td>\n",
       "      <td>Moby Dick</td>\n",
       "      <td>MobyDick</td>\n",
       "      <td>Melville, Herman</td>\n",
       "      <td>1819.0</td>\n",
       "      <td>1891.0</td>\n",
       "      <td>707</td>\n",
       "      <td>{Ship captains -- Fiction, Whaling ships -- Fi...</td>\n",
       "      <td>[adventure stories,  ahab,  captain fictitious...</td>\n",
       "      <td>{PS}</td>\n",
       "      <td>...</td>\n",
       "      <td>1523</td>\n",
       "      <td>154</td>\n",
       "      <td>2428</td>\n",
       "      <td>9.889610</td>\n",
       "      <td>1.594222</td>\n",
       "      <td>0.0</td>\n",
       "      <td>0.000000</td>\n",
       "      <td>61.925870</td>\n",
       "      <td>7.078767</td>\n",
       "      <td>{u'text/html': u'http://www.gutenberg.org/eboo...</td>\n",
       "    </tr>\n",
       "    <tr>\n",
       "      <th>1</th>\n",
       "      <td>16</td>\n",
       "      <td>Peter Pan</td>\n",
       "      <td>PeterPan</td>\n",
       "      <td>Barrie, J. M. (James Matthew)</td>\n",
       "      <td>1860.0</td>\n",
       "      <td>1937.0</td>\n",
       "      <td>4778</td>\n",
       "      <td>{Peter Pan (Fictitious character) -- Fiction, ...</td>\n",
       "      <td>[fairies,  fantasy,  fiction,  juvenile fictio...</td>\n",
       "      <td>{PZ, PR}</td>\n",
       "      <td>...</td>\n",
       "      <td>47437</td>\n",
       "      <td>3054</td>\n",
       "      <td>67117</td>\n",
       "      <td>15.532744</td>\n",
       "      <td>1.414866</td>\n",
       "      <td>1467.0</td>\n",
       "      <td>0.480354</td>\n",
       "      <td>71.371599</td>\n",
       "      <td>7.163189</td>\n",
       "      <td>{u'text/plain; charset=utf-8': u'http://www.gu...</td>\n",
       "    </tr>\n",
       "  </tbody>\n",
       "</table>\n",
       "<p>2 rows × 26 columns</p>\n",
       "</div>"
      ],
      "text/plain": [
       "   id      title title_ascii                         author  \\\n",
       "0  15  Moby Dick    MobyDick               Melville, Herman   \n",
       "1  16  Peter Pan    PeterPan  Barrie, J. M. (James Matthew)   \n",
       "\n",
       "   authoryearofbirth  authoryearofdeath  downloads  \\\n",
       "0             1819.0             1891.0        707   \n",
       "1             1860.0             1937.0       4778   \n",
       "\n",
       "                                            subjects  \\\n",
       "0  {Ship captains -- Fiction, Whaling ships -- Fi...   \n",
       "1  {Peter Pan (Fictitious character) -- Fiction, ...   \n",
       "\n",
       "                                           subjects2       LCC  \\\n",
       "0  [adventure stories,  ahab,  captain fictitious...      {PS}   \n",
       "1  [fairies,  fantasy,  fiction,  juvenile fictio...  {PZ, PR}   \n",
       "\n",
       "                         ...                          word_count  \\\n",
       "0                        ...                                1523   \n",
       "1                        ...                               47437   \n",
       "\n",
       "   sentence_count  syllable_count  avg_sentence_length  \\\n",
       "0             154            2428             9.889610   \n",
       "1            3054           67117            15.532744   \n",
       "\n",
       "   avg_syllables_per_word  dialogue  dialogue_per_sentence  \\\n",
       "0                1.594222       0.0               0.000000   \n",
       "1                1.414866    1467.0               0.480354   \n",
       "\n",
       "   flesch_reading_ease  flesch_kincain_grade  \\\n",
       "0            61.925870              7.078767   \n",
       "1            71.371599              7.163189   \n",
       "\n",
       "                                             formats  \n",
       "0  {u'text/html': u'http://www.gutenberg.org/eboo...  \n",
       "1  {u'text/plain; charset=utf-8': u'http://www.gu...  \n",
       "\n",
       "[2 rows x 26 columns]"
      ]
     },
     "execution_count": 206,
     "metadata": {},
     "output_type": "execute_result"
    }
   ],
   "source": [
    "meta_stats.head(2)"
   ]
  },
  {
   "cell_type": "code",
   "execution_count": 188,
   "metadata": {
    "collapsed": false
   },
   "outputs": [
    {
     "data": {
      "text/plain": [
       "Index([                   u'LCC',                     u'PZ',\n",
       "                       u'author',      u'authoryearofbirth',\n",
       "            u'authoryearofdeath',    u'avg_sentence_length',\n",
       "       u'avg_syllables_per_word',        u'character_count',\n",
       "           u'childrens_subjects',               u'dialogue',\n",
       "        u'dialogue_per_sentence',              u'downloads',\n",
       "                      u'fiction',   u'flesch_kincain_grade',\n",
       "          u'flesch_reading_ease',                u'formats',\n",
       "                           u'id',               u'language',\n",
       "                      u'lit_LCC',             u'literature',\n",
       "               u'sentence_count',               u'subjects',\n",
       "                    u'subjects2',         u'syllable_count',\n",
       "                        u'title',            u'title_ascii',\n",
       "                         u'type',             u'word_count'],\n",
       "      dtype='object')"
      ]
     },
     "execution_count": 188,
     "metadata": {},
     "output_type": "execute_result"
    }
   ],
   "source": [
    "meta_stats.columns"
   ]
  },
  {
   "cell_type": "code",
   "execution_count": 194,
   "metadata": {
    "collapsed": false
   },
   "outputs": [],
   "source": [
    "meta_stats = meta_stats[['id', 'title', 'title_ascii', 'author', 'authoryearofbirth', 'authoryearofdeath', 'downloads', \n",
    " 'subjects', 'subjects2', 'LCC', 'PZ', 'lit_LCC', 'childrens_subjects', 'fiction', 'literature',\n",
    "'character_count', 'word_count', 'sentence_count', 'syllable_count', 'avg_sentence_length', \n",
    "'avg_syllables_per_word','dialogue', 'dialogue_per_sentence', 'flesch_reading_ease', \n",
    "     'flesch_kincain_grade', 'formats']]"
   ]
  },
  {
   "cell_type": "code",
   "execution_count": 208,
   "metadata": {
    "collapsed": true
   },
   "outputs": [],
   "source": [
    "meta_stats.reset_index(inplace=True)"
   ]
  },
  {
   "cell_type": "code",
   "execution_count": 209,
   "metadata": {
    "collapsed": true
   },
   "outputs": [],
   "source": [
    "meta_stats.to_csv('meta_stats_all_notext', encoding = 'utf8')"
   ]
  }
 ],
 "metadata": {
  "anaconda-cloud": {},
  "kernelspec": {
   "display_name": "Python [dsi]",
   "language": "python",
   "name": "Python [dsi]"
  },
  "language_info": {
   "codemirror_mode": {
    "name": "ipython",
    "version": 2
   },
   "file_extension": ".py",
   "mimetype": "text/x-python",
   "name": "python",
   "nbconvert_exporter": "python",
   "pygments_lexer": "ipython2",
   "version": "2.7.12"
  }
 },
 "nbformat": 4,
 "nbformat_minor": 0
}

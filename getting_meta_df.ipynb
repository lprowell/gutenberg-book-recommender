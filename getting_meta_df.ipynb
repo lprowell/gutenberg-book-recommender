{
 "cells": [
  {
   "cell_type": "markdown",
   "metadata": {},
   "source": [
    "## Loading in data"
   ]
  },
  {
   "cell_type": "code",
   "execution_count": 1,
   "metadata": {
    "collapsed": false
   },
   "outputs": [
    {
     "name": "stderr",
     "output_type": "stream",
     "text": [
      "INFO:rdflib:RDFLib Version: 4.2.1\n"
     ]
    }
   ],
   "source": [
    "import pandas as pd\n",
    "import numpy as np\n",
    "\n",
    "from gutenberg.acquire import load_etext\n",
    "from gutenberg.cleanup import strip_headers"
   ]
  },
  {
   "cell_type": "markdown",
   "metadata": {},
   "source": [
    "### The code in the section is what I used to extract the metadata from the Project Gutenberg website. I would like to credit [Andreas van Cranenburgh](https://gist.github.com/andreasvc/b3b4189120d84dec8857) for making this code available on Github."
   ]
  },
  {
   "cell_type": "code",
   "execution_count": 2,
   "metadata": {
    "collapsed": false
   },
   "outputs": [],
   "source": [
    "import os\n",
    "import re\n",
    "import gzip\n",
    "import tarfile\n",
    "import urllib\n",
    "import xml.etree.cElementTree as ElementTree\n",
    "try:\n",
    "    import cPickle as pickle\n",
    "except ImportError:\n",
    "    import pickle\n"
   ]
  },
  {
   "cell_type": "code",
   "execution_count": 3,
   "metadata": {
    "collapsed": true
   },
   "outputs": [],
   "source": [
    "PICKLEFILE = '/tmp/md.pickle.gz'  # The Python dict produced by this module\n",
    "RDFFILES = '/tmp/rdf-files.tar.bz2'  # The catalog downloaded from Gutenberg\n",
    "RDFURL = r'http://www.gutenberg.org/cache/epub/feeds/rdf-files.tar.bz2'\n",
    "META_FIELDS = ('id', 'author', 'title', 'downloads', 'formats', 'type', 'LCC',\n",
    "\t\t'subjects', 'authoryearofbirth', 'authoryearofdeath', 'language')\n",
    "NS = dict(\n",
    "\t\tpg='http://www.gutenberg.org/2009/pgterms/',\n",
    "\t\tdc='http://purl.org/dc/terms/',\n",
    "\t\tdcam='http://purl.org/dc/dcam/',\n",
    "\t\trdf='http://www.w3.org/1999/02/22-rdf-syntax-ns#')\n",
    "LINEBREAKRE = re.compile(ur'[ \\t]*[\\n\\r]+[ \\t]*')\n",
    "ETEXTRE = re.compile(r'''\n",
    "\te(text|b?ook)\n",
    "\t\\s*\n",
    "\t(\\#\\s*(?P<etextid_front>\\d+)\n",
    "\t|\n",
    "\t(?P<etextid_back>\\d+)\\s*\\#)\n",
    "\t''', re.IGNORECASE | re.VERBOSE)\n",
    "\n",
    "\n",
    "def readmetadata():\n",
    "\t\"\"\"Read/create cached metadata dump of Gutenberg catalog.\n",
    "\tReturns:\n",
    "\t\tA dictionary with the following fields:\n",
    "\t\tid (int): Gutenberg identifier of text\n",
    "\t\tauthor (str): Last name, First name\n",
    "\t\ttitle (str): title of work\n",
    "\t\tsubjects (list of str): list of descriptive subjects; a subject may be\n",
    "\t\t\thierarchical, e.g:\n",
    "\t\t\t'England -- Social life and customs -- 19th century -- Fiction'\n",
    "\t\tLCC (list of str): a list of two letter Library of Congress\n",
    "\t\t\tClassifications, e.g., 'PS'\n",
    "\t\tlanguage (list of str): list of two letter language codes.\n",
    "\t\ttype (str): 'Text', 'Sound', ...\n",
    "\t\tformats (dict of str, str pairs): keys are MIME types, values are URLs.\n",
    "\t\tdownload count (int): the number of times this ebook has been\n",
    "\t\t\tdownloaded from the Gutenberg site in the last 30 days.\n",
    "\tFields that are not part of the metadata are set to None.\n",
    "\thttp://www.gutenberg.org/wiki/Gutenberg:Help_on_Bibliographic_Record_Page\n",
    "\t\"\"\"\n",
    "\tif os.path.exists(PICKLEFILE):\n",
    "\t\tmetadata = pickle.load(gzip.open(PICKLEFILE, 'rb'))\n",
    "\telse:\n",
    "\t\tmetadata = {}\n",
    "\t\tfor xml in getrdfdata():\n",
    "\t\t\tebook = xml.find(r'{%(pg)s}ebook' % NS)\n",
    "\t\t\tif ebook is None:\n",
    "\t\t\t\tcontinue\n",
    "\t\t\tresult = parsemetadata(ebook)\n",
    "\t\t\tif result is not None:\n",
    "\t\t\t\tmetadata[result['id']] = result\n",
    "\t\tpickle.dump(metadata, gzip.open(PICKLEFILE, 'wb'), protocol=-1)\n",
    "\treturn metadata\n",
    "\n",
    "def getrdfdata():\n",
    "\t\"\"\"Downloads Project Gutenberg RDF catalog.\n",
    "\tYields:\n",
    "\t\txml.etree.ElementTree.Element: An etext meta-data definition.\n",
    "\t\"\"\"\n",
    "\tif not os.path.exists(RDFFILES):\n",
    "\t\t_, _ = urllib.urlretrieve(RDFURL, RDFFILES)\n",
    "\twith tarfile.open(RDFFILES) as archive:\n",
    "\t\tfor tarinfo in archive:\n",
    "\t\t\tyield ElementTree.parse(archive.extractfile(tarinfo))\n",
    "\n",
    "def parsemetadata(ebook):\n",
    "\t\"\"\"Parses an etext meta-data definition to extract fields.\n",
    "\tArgs:\n",
    "\t\tebook (xml.etree.ElementTree.Element): An ebook meta-data definition.\n",
    "\t\"\"\"\n",
    "\tresult = dict.fromkeys(META_FIELDS)\n",
    "\t# get etext no\n",
    "\tabout = ebook.get('{%(rdf)s}about' % NS)\n",
    "\tresult['id'] = int(os.path.basename(about))\n",
    "\t# author\n",
    "\tcreator = ebook.find('.//{%(dc)s}creator' % NS)\n",
    "\tif creator is not None:\n",
    "\t\tname = creator.find('.//{%(pg)s}name' % NS)\n",
    "\t\tif name is not None:\n",
    "\t\t\tresult['author'] = safeunicode(name.text, encoding='utf-8')\n",
    "\t\tbirth = creator.find('.//{%(pg)s}birthdate' % NS)\n",
    "\t\tif birth is not None:\n",
    "\t\t\tresult['authoryearofbirth'] = int(birth.text)\n",
    "\t\tdeath = creator.find('.//{%(pg)s}deathdate' % NS)\n",
    "\t\tif death is not None:\n",
    "\t\t\tresult['authoryearofdeath'] = int(death.text)\n",
    "\t# title\n",
    "\ttitle = ebook.find('.//{%(dc)s}title' % NS)\n",
    "\tif title is not None:\n",
    "\t\tresult['title'] = fixsubtitles(\n",
    "\t\t\t\tsafeunicode(title.text, encoding='utf-8'))\n",
    "\t# subject lists\n",
    "\tresult['subjects'], result['LCC'] = set(), set()\n",
    "\tfor subject in ebook.findall('.//{%(dc)s}subject' % NS):\n",
    "\t\tres = subject.find('.//{%(dcam)s}memberOf' % NS)\n",
    "\t\tif res is None:\n",
    "\t\t\tcontinue\n",
    "\t\tres = res.get('{%(rdf)s}resource' % NS)\n",
    "\t\tvalue = subject.find('.//{%(rdf)s}value' % NS).text\n",
    "\t\tif res == ('%(dc)sLCSH' % NS):\n",
    "\t\t\tresult['subjects'].add(value)\n",
    "\t\telif res == ('%(dc)sLCC' % NS):\n",
    "\t\t\tresult['LCC'].add(value)\n",
    "\t# formats\n",
    "\tresult['formats'] = {file.find('{%(dc)s}format//{%(rdf)s}value' % NS).text:\n",
    "\t\t\tfile.get('{%(rdf)s}about' % NS)\n",
    "\t\t\tfor file in ebook.findall('.//{%(pg)s}file' % NS)}\n",
    "\t# type\n",
    "\tbooktype = ebook.find('.//{%(dc)s}type//{%(rdf)s}value' % NS)\n",
    "\tif booktype is not None:\n",
    "\t\tresult['type'] = booktype.text\n",
    "\t# languages\n",
    "\tlang = ebook.findall('.//{%(dc)s}language//{%(rdf)s}value' % NS)\n",
    "\tresult['language'] = [a.text for a in lang] or None\n",
    "\t# download count\n",
    "\tdownloads = ebook.find('.//{%(pg)s}downloads' % NS)\n",
    "\tif downloads is not None:\n",
    "\t\tresult['downloads'] = int(downloads.text)\n",
    "\treturn result\n",
    "\n",
    "def etextno(lines):\n",
    "\t\"\"\"Retrieves the id for an etext.\n",
    "\tArgs:\n",
    "\t\tlines (iter): The lines of the etext to search.\n",
    "\tReturns:\n",
    "\t\tint: The id of the etext.\n",
    "\tRaises:\n",
    "\t\tValueError: If no etext id was found.\n",
    "\tExamples:\n",
    "\t\t>>> etextno(['Release Date: March 17, 2004 [EBook #11609]'])\n",
    "\t\t11609\n",
    "\t\t>>> etextno(['Release Date: July, 2003 [Etext# 4263]'])\n",
    "\t\t4263\n",
    "\t\t>>> etextno(['Release Date: November 29, 2003 [Eook #10335]'])\n",
    "\t\t10335\n",
    "\t\t>>> etextno(['December, 1998  [Etext 1576#]'])\n",
    "\t\t1576\n",
    "\t\t>>> etextno(['Some lines', 'without', 'Any [Etext] Number'])\n",
    "\t\tTraceback (most recent call last):\n",
    "\t\t\t...\n",
    "\t\tValueError: no etext-id found\n",
    "\t\"\"\"\n",
    "\tfor line in lines:\n",
    "\t\tmatch = ETEXTRE.search(line)\n",
    "\t\tif match is not None:\n",
    "\t\t\tfront_match = match.group('etextid_front')\n",
    "\t\t\tback_match = match.group('etextid_back')\n",
    "\t\t\tif front_match is not None:\n",
    "\t\t\t\treturn int(front_match)\n",
    "\t\t\telif back_match is not None:\n",
    "\t\t\t\treturn int(back_match)\n",
    "\t\t\telse:\n",
    "\t\t\t\traise ValueError('no regex match (this should never happen')\n",
    "\traise ValueError('no etext-id found')\n",
    "\n",
    "\n",
    "def fixsubtitles(title):\n",
    "\t\"\"\"Introduce any subtitle with (semi)colons instead of newlines.\n",
    "\tThe first subtitle is introduced with a colon, the rest with semicolons.\n",
    "\t>>> fixsubtitles(u'First Across ...\\r\\nThe Story of ... \\r\\n'\n",
    "\t... 'Being an investigation into ...')\n",
    "\tu'First Across ...: The Story of ...; Being an investigation into ...'\"\"\"\n",
    "\ttmp = LINEBREAKRE.sub(': ', title, 1)\n",
    "\treturn LINEBREAKRE.sub('; ', tmp)\n",
    "\n",
    "\n",
    "def safeunicode(arg, *args, **kwargs):\n",
    "\t\"\"\"Coerce argument to unicode, if it's not already.\"\"\"\n",
    "\treturn arg if isinstance(arg, unicode) else unicode(arg, *args, **kwargs)\n",
    "\n",
    "__all__ = ['readmetadata']"
   ]
  },
  {
   "cell_type": "code",
   "execution_count": 4,
   "metadata": {
    "collapsed": false
   },
   "outputs": [],
   "source": [
    "x = readmetadata()"
   ]
  },
  {
   "cell_type": "code",
   "execution_count": 11,
   "metadata": {
    "collapsed": false
   },
   "outputs": [
    {
     "data": {
      "text/plain": [
       "{'LCC': {'E201', 'JK'},\n",
       " 'author': u'Jefferson, Thomas',\n",
       " 'authoryearofbirth': 1743,\n",
       " 'authoryearofdeath': 1826,\n",
       " 'downloads': 737,\n",
       " 'formats': {'application/epub+zip': 'http://www.gutenberg.org/ebooks/1.epub.images',\n",
       "  'application/prs.tex': 'http://www.gutenberg.org/6/5/2/6527/6527-t/6527-t.tex',\n",
       "  'application/rdf+xml': 'http://www.gutenberg.org/ebooks/1.rdf',\n",
       "  'application/x-mobipocket-ebook': 'http://www.gutenberg.org/ebooks/1.kindle.noimages',\n",
       "  'application/zip': 'http://www.gutenberg.org/files/1/1.zip',\n",
       "  'text/html': 'http://www.gutenberg.org/ebooks/1.html.noimages',\n",
       "  'text/plain': 'http://www.gutenberg.org/ebooks/1.txt.utf-8',\n",
       "  'text/plain; charset=us-ascii': 'http://www.gutenberg.org/files/1/1.txt'},\n",
       " 'id': 1,\n",
       " 'language': ['en'],\n",
       " 'subjects': {'United States -- History -- Revolution, 1775-1783 -- Sources',\n",
       "  'United States. Declaration of Independence'},\n",
       " 'title': u'The Declaration of Independence of the United States of America',\n",
       " 'type': 'Text'}"
      ]
     },
     "execution_count": 11,
     "metadata": {},
     "output_type": "execute_result"
    }
   ],
   "source": [
    "# This is what the format of x looks like:\n",
    "x[1]"
   ]
  },
  {
   "cell_type": "code",
   "execution_count": 6,
   "metadata": {
    "collapsed": true
   },
   "outputs": [],
   "source": [
    "meta_df = pd.DataFrame(x)"
   ]
  },
  {
   "cell_type": "code",
   "execution_count": 13,
   "metadata": {
    "collapsed": false
   },
   "outputs": [
    {
     "data": {
      "text/html": [
       "<div>\n",
       "<table border=\"1\" class=\"dataframe\">\n",
       "  <thead>\n",
       "    <tr style=\"text-align: right;\">\n",
       "      <th></th>\n",
       "      <th>LCC</th>\n",
       "      <th>author</th>\n",
       "      <th>authoryearofbirth</th>\n",
       "      <th>authoryearofdeath</th>\n",
       "      <th>downloads</th>\n",
       "      <th>formats</th>\n",
       "      <th>id</th>\n",
       "      <th>language</th>\n",
       "      <th>subjects</th>\n",
       "      <th>title</th>\n",
       "      <th>type</th>\n",
       "    </tr>\n",
       "  </thead>\n",
       "  <tbody>\n",
       "    <tr>\n",
       "      <th>0</th>\n",
       "      <td>{}</td>\n",
       "      <td>None</td>\n",
       "      <td>None</td>\n",
       "      <td>None</td>\n",
       "      <td>None</td>\n",
       "      <td>{}</td>\n",
       "      <td>0</td>\n",
       "      <td>None</td>\n",
       "      <td>{}</td>\n",
       "      <td>None</td>\n",
       "      <td>Text</td>\n",
       "    </tr>\n",
       "    <tr>\n",
       "      <th>1</th>\n",
       "      <td>{E201, JK}</td>\n",
       "      <td>Jefferson, Thomas</td>\n",
       "      <td>1743</td>\n",
       "      <td>1826</td>\n",
       "      <td>737</td>\n",
       "      <td>{u'text/html': u'http://www.gutenberg.org/eboo...</td>\n",
       "      <td>1</td>\n",
       "      <td>[en]</td>\n",
       "      <td>{United States. Declaration of Independence, U...</td>\n",
       "      <td>The Declaration of Independence of the United ...</td>\n",
       "      <td>Text</td>\n",
       "    </tr>\n",
       "  </tbody>\n",
       "</table>\n",
       "</div>"
      ],
      "text/plain": [
       "          LCC             author authoryearofbirth authoryearofdeath  \\\n",
       "0          {}               None              None              None   \n",
       "1  {E201, JK}  Jefferson, Thomas              1743              1826   \n",
       "\n",
       "  downloads                                            formats id language  \\\n",
       "0      None                                                 {}  0     None   \n",
       "1       737  {u'text/html': u'http://www.gutenberg.org/eboo...  1     [en]   \n",
       "\n",
       "                                            subjects  \\\n",
       "0                                                 {}   \n",
       "1  {United States. Declaration of Independence, U...   \n",
       "\n",
       "                                               title  type  \n",
       "0                                               None  Text  \n",
       "1  The Declaration of Independence of the United ...  Text  "
      ]
     },
     "execution_count": 13,
     "metadata": {},
     "output_type": "execute_result"
    }
   ],
   "source": [
    "meta_df = meta_df.T\n",
    "meta_df.head(2)"
   ]
  },
  {
   "cell_type": "code",
   "execution_count": 15,
   "metadata": {
    "collapsed": false
   },
   "outputs": [
    {
     "data": {
      "text/plain": [
       "(54124, 11)"
      ]
     },
     "execution_count": 15,
     "metadata": {},
     "output_type": "execute_result"
    }
   ],
   "source": [
    "meta_df.shape"
   ]
  },
  {
   "cell_type": "markdown",
   "metadata": {},
   "source": [
    "## Now I have a dataframe that has metadata about all 54,124 books\n",
    "\n",
    "### My next steps are to clean this up a little to make it useable. I will need to:\n",
    "- Remove row 0 (there is no book with id 0)\n",
    "- Remove anything that is not in a text format, such as audiobooks or datasets.\n",
    "- Remove books that are not written in English\n",
    "- Remove books to which access has been blocked (there are several books like this, probably because of copyright disputes)"
   ]
  },
  {
   "cell_type": "code",
   "execution_count": 16,
   "metadata": {
    "collapsed": false
   },
   "outputs": [
    {
     "data": {
      "text/html": [
       "<div>\n",
       "<table border=\"1\" class=\"dataframe\">\n",
       "  <thead>\n",
       "    <tr style=\"text-align: right;\">\n",
       "      <th></th>\n",
       "      <th>LCC</th>\n",
       "      <th>author</th>\n",
       "      <th>authoryearofbirth</th>\n",
       "      <th>authoryearofdeath</th>\n",
       "      <th>downloads</th>\n",
       "      <th>formats</th>\n",
       "      <th>id</th>\n",
       "      <th>language</th>\n",
       "      <th>subjects</th>\n",
       "      <th>title</th>\n",
       "      <th>type</th>\n",
       "    </tr>\n",
       "  </thead>\n",
       "  <tbody>\n",
       "    <tr>\n",
       "      <th>0</th>\n",
       "      <td>{}</td>\n",
       "      <td>None</td>\n",
       "      <td>None</td>\n",
       "      <td>None</td>\n",
       "      <td>None</td>\n",
       "      <td>{}</td>\n",
       "      <td>0</td>\n",
       "      <td>None</td>\n",
       "      <td>{}</td>\n",
       "      <td>None</td>\n",
       "      <td>Text</td>\n",
       "    </tr>\n",
       "    <tr>\n",
       "      <th>1</th>\n",
       "      <td>{E201, JK}</td>\n",
       "      <td>Jefferson, Thomas</td>\n",
       "      <td>1743</td>\n",
       "      <td>1826</td>\n",
       "      <td>737</td>\n",
       "      <td>{u'text/html': u'http://www.gutenberg.org/eboo...</td>\n",
       "      <td>1</td>\n",
       "      <td>[en]</td>\n",
       "      <td>{United States. Declaration of Independence, U...</td>\n",
       "      <td>The Declaration of Independence of the United ...</td>\n",
       "      <td>Text</td>\n",
       "    </tr>\n",
       "    <tr>\n",
       "      <th>2</th>\n",
       "      <td>{KF, JK}</td>\n",
       "      <td>United States</td>\n",
       "      <td>None</td>\n",
       "      <td>None</td>\n",
       "      <td>212</td>\n",
       "      <td>{u'text/html': u'http://www.gutenberg.org/file...</td>\n",
       "      <td>2</td>\n",
       "      <td>[en]</td>\n",
       "      <td>{United States. Constitution. 1st-10th Amendme...</td>\n",
       "      <td>The United States Bill of Rights: The Ten Orig...</td>\n",
       "      <td>Text</td>\n",
       "    </tr>\n",
       "  </tbody>\n",
       "</table>\n",
       "</div>"
      ],
      "text/plain": [
       "          LCC             author authoryearofbirth authoryearofdeath  \\\n",
       "0          {}               None              None              None   \n",
       "1  {E201, JK}  Jefferson, Thomas              1743              1826   \n",
       "2    {KF, JK}      United States              None              None   \n",
       "\n",
       "  downloads                                            formats id language  \\\n",
       "0      None                                                 {}  0     None   \n",
       "1       737  {u'text/html': u'http://www.gutenberg.org/eboo...  1     [en]   \n",
       "2       212  {u'text/html': u'http://www.gutenberg.org/file...  2     [en]   \n",
       "\n",
       "                                            subjects  \\\n",
       "0                                                 {}   \n",
       "1  {United States. Declaration of Independence, U...   \n",
       "2  {United States. Constitution. 1st-10th Amendme...   \n",
       "\n",
       "                                               title  type  \n",
       "0                                               None  Text  \n",
       "1  The Declaration of Independence of the United ...  Text  \n",
       "2  The United States Bill of Rights: The Ten Orig...  Text  "
      ]
     },
     "execution_count": 16,
     "metadata": {},
     "output_type": "execute_result"
    }
   ],
   "source": [
    "meta_df.head(3)"
   ]
  },
  {
   "cell_type": "code",
   "execution_count": 17,
   "metadata": {
    "collapsed": true
   },
   "outputs": [],
   "source": [
    "meta_df = meta_df.sort_values(by = 'id')"
   ]
  },
  {
   "cell_type": "code",
   "execution_count": 18,
   "metadata": {
    "collapsed": false
   },
   "outputs": [
    {
     "data": {
      "text/html": [
       "<div>\n",
       "<table border=\"1\" class=\"dataframe\">\n",
       "  <thead>\n",
       "    <tr style=\"text-align: right;\">\n",
       "      <th></th>\n",
       "      <th>LCC</th>\n",
       "      <th>author</th>\n",
       "      <th>authoryearofbirth</th>\n",
       "      <th>authoryearofdeath</th>\n",
       "      <th>downloads</th>\n",
       "      <th>formats</th>\n",
       "      <th>id</th>\n",
       "      <th>language</th>\n",
       "      <th>subjects</th>\n",
       "      <th>title</th>\n",
       "      <th>type</th>\n",
       "    </tr>\n",
       "  </thead>\n",
       "  <tbody>\n",
       "    <tr>\n",
       "      <th>0</th>\n",
       "      <td>{}</td>\n",
       "      <td>None</td>\n",
       "      <td>None</td>\n",
       "      <td>None</td>\n",
       "      <td>None</td>\n",
       "      <td>{}</td>\n",
       "      <td>0</td>\n",
       "      <td>None</td>\n",
       "      <td>{}</td>\n",
       "      <td>None</td>\n",
       "      <td>Text</td>\n",
       "    </tr>\n",
       "    <tr>\n",
       "      <th>1</th>\n",
       "      <td>{E201, JK}</td>\n",
       "      <td>Jefferson, Thomas</td>\n",
       "      <td>1743</td>\n",
       "      <td>1826</td>\n",
       "      <td>737</td>\n",
       "      <td>{u'text/html': u'http://www.gutenberg.org/eboo...</td>\n",
       "      <td>1</td>\n",
       "      <td>[en]</td>\n",
       "      <td>{United States. Declaration of Independence, U...</td>\n",
       "      <td>The Declaration of Independence of the United ...</td>\n",
       "      <td>Text</td>\n",
       "    </tr>\n",
       "    <tr>\n",
       "      <th>2</th>\n",
       "      <td>{KF, JK}</td>\n",
       "      <td>United States</td>\n",
       "      <td>None</td>\n",
       "      <td>None</td>\n",
       "      <td>212</td>\n",
       "      <td>{u'text/html': u'http://www.gutenberg.org/file...</td>\n",
       "      <td>2</td>\n",
       "      <td>[en]</td>\n",
       "      <td>{United States. Constitution. 1st-10th Amendme...</td>\n",
       "      <td>The United States Bill of Rights: The Ten Orig...</td>\n",
       "      <td>Text</td>\n",
       "    </tr>\n",
       "    <tr>\n",
       "      <th>3</th>\n",
       "      <td>{E838}</td>\n",
       "      <td>Kennedy, John F. (John Fitzgerald)</td>\n",
       "      <td>1917</td>\n",
       "      <td>1963</td>\n",
       "      <td>34</td>\n",
       "      <td>{u'text/html': u'http://www.gutenberg.org/file...</td>\n",
       "      <td>3</td>\n",
       "      <td>[en]</td>\n",
       "      <td>{United States -- Foreign relations -- 1961-19...</td>\n",
       "      <td>John F. Kennedy's Inaugural Address</td>\n",
       "      <td>Text</td>\n",
       "    </tr>\n",
       "  </tbody>\n",
       "</table>\n",
       "</div>"
      ],
      "text/plain": [
       "          LCC                              author authoryearofbirth  \\\n",
       "0          {}                                None              None   \n",
       "1  {E201, JK}                   Jefferson, Thomas              1743   \n",
       "2    {KF, JK}                       United States              None   \n",
       "3      {E838}  Kennedy, John F. (John Fitzgerald)              1917   \n",
       "\n",
       "  authoryearofdeath downloads  \\\n",
       "0              None      None   \n",
       "1              1826       737   \n",
       "2              None       212   \n",
       "3              1963        34   \n",
       "\n",
       "                                             formats id language  \\\n",
       "0                                                 {}  0     None   \n",
       "1  {u'text/html': u'http://www.gutenberg.org/eboo...  1     [en]   \n",
       "2  {u'text/html': u'http://www.gutenberg.org/file...  2     [en]   \n",
       "3  {u'text/html': u'http://www.gutenberg.org/file...  3     [en]   \n",
       "\n",
       "                                            subjects  \\\n",
       "0                                                 {}   \n",
       "1  {United States. Declaration of Independence, U...   \n",
       "2  {United States. Constitution. 1st-10th Amendme...   \n",
       "3  {United States -- Foreign relations -- 1961-19...   \n",
       "\n",
       "                                               title  type  \n",
       "0                                               None  Text  \n",
       "1  The Declaration of Independence of the United ...  Text  \n",
       "2  The United States Bill of Rights: The Ten Orig...  Text  \n",
       "3                John F. Kennedy's Inaugural Address  Text  "
      ]
     },
     "execution_count": 18,
     "metadata": {},
     "output_type": "execute_result"
    }
   ],
   "source": [
    "meta_df.reset_index(inplace = True, drop=True)\n",
    "meta_df.head(4)"
   ]
  },
  {
   "cell_type": "code",
   "execution_count": 19,
   "metadata": {
    "collapsed": false
   },
   "outputs": [
    {
     "name": "stdout",
     "output_type": "stream",
     "text": [
      "<class 'pandas.core.frame.DataFrame'>\n",
      "RangeIndex: 54124 entries, 0 to 54123\n",
      "Data columns (total 11 columns):\n",
      "LCC                  54124 non-null object\n",
      "author               52143 non-null object\n",
      "authoryearofbirth    39308 non-null object\n",
      "authoryearofdeath    38381 non-null object\n",
      "downloads            54122 non-null object\n",
      "formats              54124 non-null object\n",
      "id                   54124 non-null object\n",
      "language             54122 non-null object\n",
      "subjects             54124 non-null object\n",
      "title                54049 non-null object\n",
      "type                 54124 non-null object\n",
      "dtypes: object(11)\n",
      "memory usage: 4.5+ MB\n"
     ]
    }
   ],
   "source": [
    "meta_df.info()"
   ]
  },
  {
   "cell_type": "markdown",
   "metadata": {},
   "source": [
    "## I only want to keep books with type = Text\n",
    "I won't be able to do much with audiobooks or video. Interestingly, the 'Dataset' type includes data like the first 1 million digets of 1/pi and some human chromosomes. I would love to come back and so some analysis on these datasets in a future project!"
   ]
  },
  {
   "cell_type": "code",
   "execution_count": 20,
   "metadata": {
    "collapsed": false
   },
   "outputs": [
    {
     "data": {
      "text/plain": [
       "array(['Text', 'Dataset', 'StillImage', 'MovingImage', 'Sound', 'Image',\n",
       "       'Collection'], dtype=object)"
      ]
     },
     "execution_count": 20,
     "metadata": {},
     "output_type": "execute_result"
    }
   ],
   "source": [
    "meta_df['type'].unique()"
   ]
  },
  {
   "cell_type": "code",
   "execution_count": 22,
   "metadata": {
    "collapsed": true
   },
   "outputs": [],
   "source": [
    "meta_df = meta_df[meta_df['type'] == 'Text']"
   ]
  },
  {
   "cell_type": "markdown",
   "metadata": {},
   "source": [
    "## Removing null weird row"
   ]
  },
  {
   "cell_type": "code",
   "execution_count": 23,
   "metadata": {
    "collapsed": false
   },
   "outputs": [
    {
     "data": {
      "text/html": [
       "<div>\n",
       "<table border=\"1\" class=\"dataframe\">\n",
       "  <thead>\n",
       "    <tr style=\"text-align: right;\">\n",
       "      <th></th>\n",
       "      <th>LCC</th>\n",
       "      <th>author</th>\n",
       "      <th>authoryearofbirth</th>\n",
       "      <th>authoryearofdeath</th>\n",
       "      <th>downloads</th>\n",
       "      <th>formats</th>\n",
       "      <th>id</th>\n",
       "      <th>language</th>\n",
       "      <th>subjects</th>\n",
       "      <th>title</th>\n",
       "      <th>type</th>\n",
       "    </tr>\n",
       "  </thead>\n",
       "  <tbody>\n",
       "    <tr>\n",
       "      <th>54122</th>\n",
       "      <td>{}</td>\n",
       "      <td>Burgess, Gelett</td>\n",
       "      <td>1866</td>\n",
       "      <td>1951</td>\n",
       "      <td>0</td>\n",
       "      <td>{u'image/jpeg': u'http://www.gutenberg.org/cac...</td>\n",
       "      <td>54124</td>\n",
       "      <td>[en]</td>\n",
       "      <td>{}</td>\n",
       "      <td>War the Creator</td>\n",
       "      <td>Text</td>\n",
       "    </tr>\n",
       "    <tr>\n",
       "      <th>54123</th>\n",
       "      <td>{}</td>\n",
       "      <td>None</td>\n",
       "      <td>None</td>\n",
       "      <td>None</td>\n",
       "      <td>None</td>\n",
       "      <td>{}</td>\n",
       "      <td>999999</td>\n",
       "      <td>None</td>\n",
       "      <td>{}</td>\n",
       "      <td>Piccole anime</td>\n",
       "      <td>Text</td>\n",
       "    </tr>\n",
       "  </tbody>\n",
       "</table>\n",
       "</div>"
      ],
      "text/plain": [
       "      LCC           author authoryearofbirth authoryearofdeath downloads  \\\n",
       "54122  {}  Burgess, Gelett              1866              1951         0   \n",
       "54123  {}             None              None              None      None   \n",
       "\n",
       "                                                 formats      id language  \\\n",
       "54122  {u'image/jpeg': u'http://www.gutenberg.org/cac...   54124     [en]   \n",
       "54123                                                 {}  999999     None   \n",
       "\n",
       "      subjects            title  type  \n",
       "54122       {}  War the Creator  Text  \n",
       "54123       {}    Piccole anime  Text  "
      ]
     },
     "execution_count": 23,
     "metadata": {},
     "output_type": "execute_result"
    }
   ],
   "source": [
    "meta_df.tail(2)"
   ]
  },
  {
   "cell_type": "code",
   "execution_count": 24,
   "metadata": {
    "collapsed": true
   },
   "outputs": [],
   "source": [
    "meta_df = meta_df[~ meta_df['language'].isnull()]"
   ]
  },
  {
   "cell_type": "code",
   "execution_count": 25,
   "metadata": {
    "collapsed": false
   },
   "outputs": [
    {
     "data": {
      "text/html": [
       "<div>\n",
       "<table border=\"1\" class=\"dataframe\">\n",
       "  <thead>\n",
       "    <tr style=\"text-align: right;\">\n",
       "      <th></th>\n",
       "      <th>LCC</th>\n",
       "      <th>author</th>\n",
       "      <th>authoryearofbirth</th>\n",
       "      <th>authoryearofdeath</th>\n",
       "      <th>downloads</th>\n",
       "      <th>formats</th>\n",
       "      <th>id</th>\n",
       "      <th>language</th>\n",
       "      <th>subjects</th>\n",
       "      <th>title</th>\n",
       "      <th>type</th>\n",
       "    </tr>\n",
       "  </thead>\n",
       "  <tbody>\n",
       "    <tr>\n",
       "      <th>54121</th>\n",
       "      <td>{}</td>\n",
       "      <td>Potapenko, I. N.</td>\n",
       "      <td>None</td>\n",
       "      <td>None</td>\n",
       "      <td>0</td>\n",
       "      <td>{u'text/html': u'http://www.gutenberg.org/eboo...</td>\n",
       "      <td>54123</td>\n",
       "      <td>[fi]</td>\n",
       "      <td>{}</td>\n",
       "      <td>Nuoruuden tunnustuksia: Romaani</td>\n",
       "      <td>Text</td>\n",
       "    </tr>\n",
       "    <tr>\n",
       "      <th>54122</th>\n",
       "      <td>{}</td>\n",
       "      <td>Burgess, Gelett</td>\n",
       "      <td>1866</td>\n",
       "      <td>1951</td>\n",
       "      <td>0</td>\n",
       "      <td>{u'image/jpeg': u'http://www.gutenberg.org/cac...</td>\n",
       "      <td>54124</td>\n",
       "      <td>[en]</td>\n",
       "      <td>{}</td>\n",
       "      <td>War the Creator</td>\n",
       "      <td>Text</td>\n",
       "    </tr>\n",
       "  </tbody>\n",
       "</table>\n",
       "</div>"
      ],
      "text/plain": [
       "      LCC            author authoryearofbirth authoryearofdeath downloads  \\\n",
       "54121  {}  Potapenko, I. N.              None              None         0   \n",
       "54122  {}   Burgess, Gelett              1866              1951         0   \n",
       "\n",
       "                                                 formats     id language  \\\n",
       "54121  {u'text/html': u'http://www.gutenberg.org/eboo...  54123     [fi]   \n",
       "54122  {u'image/jpeg': u'http://www.gutenberg.org/cac...  54124     [en]   \n",
       "\n",
       "      subjects                            title  type  \n",
       "54121       {}  Nuoruuden tunnustuksia: Romaani  Text  \n",
       "54122       {}                  War the Creator  Text  "
      ]
     },
     "execution_count": 25,
     "metadata": {},
     "output_type": "execute_result"
    }
   ],
   "source": [
    "meta_df.tail(2)"
   ]
  },
  {
   "cell_type": "code",
   "execution_count": 26,
   "metadata": {
    "collapsed": true
   },
   "outputs": [],
   "source": [
    "meta_df.reset_index(inplace = True)"
   ]
  },
  {
   "cell_type": "markdown",
   "metadata": {},
   "source": [
    "## Cleaning the language column\n",
    "\n",
    "I only want books that are exclusively written in English"
   ]
  },
  {
   "cell_type": "code",
   "execution_count": 27,
   "metadata": {
    "collapsed": false
   },
   "outputs": [
    {
     "data": {
      "text/plain": [
       "list"
      ]
     },
     "execution_count": 27,
     "metadata": {},
     "output_type": "execute_result"
    }
   ],
   "source": [
    "type(meta_df['language'][0])"
   ]
  },
  {
   "cell_type": "code",
   "execution_count": 28,
   "metadata": {
    "collapsed": false
   },
   "outputs": [
    {
     "data": {
      "text/html": [
       "<div>\n",
       "<table border=\"1\" class=\"dataframe\">\n",
       "  <thead>\n",
       "    <tr style=\"text-align: right;\">\n",
       "      <th></th>\n",
       "      <th>index</th>\n",
       "      <th>LCC</th>\n",
       "      <th>author</th>\n",
       "      <th>authoryearofbirth</th>\n",
       "      <th>authoryearofdeath</th>\n",
       "      <th>downloads</th>\n",
       "      <th>formats</th>\n",
       "      <th>id</th>\n",
       "      <th>language</th>\n",
       "      <th>subjects</th>\n",
       "      <th>title</th>\n",
       "      <th>type</th>\n",
       "      <th>english</th>\n",
       "    </tr>\n",
       "  </thead>\n",
       "  <tbody>\n",
       "    <tr>\n",
       "      <th>0</th>\n",
       "      <td>1</td>\n",
       "      <td>{E201, JK}</td>\n",
       "      <td>Jefferson, Thomas</td>\n",
       "      <td>1743</td>\n",
       "      <td>1826</td>\n",
       "      <td>737</td>\n",
       "      <td>{u'text/html': u'http://www.gutenberg.org/eboo...</td>\n",
       "      <td>1</td>\n",
       "      <td>[en]</td>\n",
       "      <td>{United States. Declaration of Independence, U...</td>\n",
       "      <td>The Declaration of Independence of the United ...</td>\n",
       "      <td>Text</td>\n",
       "      <td>1</td>\n",
       "    </tr>\n",
       "    <tr>\n",
       "      <th>1</th>\n",
       "      <td>2</td>\n",
       "      <td>{KF, JK}</td>\n",
       "      <td>United States</td>\n",
       "      <td>None</td>\n",
       "      <td>None</td>\n",
       "      <td>212</td>\n",
       "      <td>{u'text/html': u'http://www.gutenberg.org/file...</td>\n",
       "      <td>2</td>\n",
       "      <td>[en]</td>\n",
       "      <td>{United States. Constitution. 1st-10th Amendme...</td>\n",
       "      <td>The United States Bill of Rights: The Ten Orig...</td>\n",
       "      <td>Text</td>\n",
       "      <td>1</td>\n",
       "    </tr>\n",
       "  </tbody>\n",
       "</table>\n",
       "</div>"
      ],
      "text/plain": [
       "   index         LCC             author authoryearofbirth authoryearofdeath  \\\n",
       "0      1  {E201, JK}  Jefferson, Thomas              1743              1826   \n",
       "1      2    {KF, JK}      United States              None              None   \n",
       "\n",
       "  downloads                                            formats id language  \\\n",
       "0       737  {u'text/html': u'http://www.gutenberg.org/eboo...  1     [en]   \n",
       "1       212  {u'text/html': u'http://www.gutenberg.org/file...  2     [en]   \n",
       "\n",
       "                                            subjects  \\\n",
       "0  {United States. Declaration of Independence, U...   \n",
       "1  {United States. Constitution. 1st-10th Amendme...   \n",
       "\n",
       "                                               title  type  english  \n",
       "0  The Declaration of Independence of the United ...  Text        1  \n",
       "1  The United States Bill of Rights: The Ten Orig...  Text        1  "
      ]
     },
     "execution_count": 28,
     "metadata": {},
     "output_type": "execute_result"
    }
   ],
   "source": [
    "def clean_language(lang_list):\n",
    "    if 'en' in lang_list and len(lang_list) == 1:\n",
    "        return 1\n",
    "    else:\n",
    "        return 0\n",
    "    \n",
    "meta_df['english'] = meta_df['language'].map(clean_language)\n",
    "meta_df.head(2)"
   ]
  },
  {
   "cell_type": "code",
   "execution_count": 29,
   "metadata": {
    "collapsed": true
   },
   "outputs": [],
   "source": [
    "meta_df = meta_df[meta_df['english'] == 1]"
   ]
  },
  {
   "cell_type": "code",
   "execution_count": 30,
   "metadata": {
    "collapsed": false
   },
   "outputs": [
    {
     "data": {
      "text/plain": [
       "(43066, 13)"
      ]
     },
     "execution_count": 30,
     "metadata": {},
     "output_type": "execute_result"
    }
   ],
   "source": [
    "meta_df.shape"
   ]
  },
  {
   "cell_type": "markdown",
   "metadata": {},
   "source": [
    "## Now I'm going to start dealing with the subjects"
   ]
  },
  {
   "cell_type": "code",
   "execution_count": 31,
   "metadata": {
    "collapsed": false
   },
   "outputs": [
    {
     "data": {
      "text/plain": [
       "0    {United States. Declaration of Independence, U...\n",
       "1    {United States. Constitution. 1st-10th Amendme...\n",
       "2    {United States -- Foreign relations -- 1961-19...\n",
       "3    {Consecration of cemeteries -- Pennsylvania --...\n",
       "4    {United States. Constitution, United States --...\n",
       "Name: subjects, dtype: object"
      ]
     },
     "execution_count": 31,
     "metadata": {},
     "output_type": "execute_result"
    }
   ],
   "source": [
    "meta_df['subjects'].head()\n",
    "\n",
    "#here's what they look like"
   ]
  },
  {
   "cell_type": "code",
   "execution_count": 32,
   "metadata": {
    "collapsed": false
   },
   "outputs": [
    {
     "data": {
      "text/plain": [
       "set"
      ]
     },
     "execution_count": 32,
     "metadata": {},
     "output_type": "execute_result"
    }
   ],
   "source": [
    "type(meta_df.subjects[0])"
   ]
  },
  {
   "cell_type": "code",
   "execution_count": 33,
   "metadata": {
    "collapsed": false
   },
   "outputs": [
    {
     "data": {
      "text/plain": [
       "{'United States -- History -- Revolution, 1775-1783 -- Sources',\n",
       " 'United States. Declaration of Independence'}"
      ]
     },
     "execution_count": 33,
     "metadata": {},
     "output_type": "execute_result"
    }
   ],
   "source": [
    "meta_df.subjects[0]"
   ]
  },
  {
   "cell_type": "code",
   "execution_count": 34,
   "metadata": {
    "collapsed": false
   },
   "outputs": [
    {
     "data": {
      "text/html": [
       "<div>\n",
       "<table border=\"1\" class=\"dataframe\">\n",
       "  <thead>\n",
       "    <tr style=\"text-align: right;\">\n",
       "      <th></th>\n",
       "      <th>index</th>\n",
       "      <th>LCC</th>\n",
       "      <th>author</th>\n",
       "      <th>authoryearofbirth</th>\n",
       "      <th>authoryearofdeath</th>\n",
       "      <th>downloads</th>\n",
       "      <th>formats</th>\n",
       "      <th>id</th>\n",
       "      <th>language</th>\n",
       "      <th>subjects</th>\n",
       "      <th>title</th>\n",
       "      <th>type</th>\n",
       "      <th>english</th>\n",
       "      <th>subjects2</th>\n",
       "    </tr>\n",
       "  </thead>\n",
       "  <tbody>\n",
       "    <tr>\n",
       "      <th>0</th>\n",
       "      <td>1</td>\n",
       "      <td>{E201, JK}</td>\n",
       "      <td>Jefferson, Thomas</td>\n",
       "      <td>1743</td>\n",
       "      <td>1826</td>\n",
       "      <td>737</td>\n",
       "      <td>{u'text/html': u'http://www.gutenberg.org/eboo...</td>\n",
       "      <td>1</td>\n",
       "      <td>[en]</td>\n",
       "      <td>{United States. Declaration of Independence, U...</td>\n",
       "      <td>The Declaration of Independence of the United ...</td>\n",
       "      <td>Text</td>\n",
       "      <td>1</td>\n",
       "      <td>[History, Revolution, 1775-1783, Sources, Unit...</td>\n",
       "    </tr>\n",
       "    <tr>\n",
       "      <th>1</th>\n",
       "      <td>2</td>\n",
       "      <td>{KF, JK}</td>\n",
       "      <td>United States</td>\n",
       "      <td>None</td>\n",
       "      <td>None</td>\n",
       "      <td>212</td>\n",
       "      <td>{u'text/html': u'http://www.gutenberg.org/file...</td>\n",
       "      <td>2</td>\n",
       "      <td>[en]</td>\n",
       "      <td>{United States. Constitution. 1st-10th Amendme...</td>\n",
       "      <td>The United States Bill of Rights: The Ten Orig...</td>\n",
       "      <td>Text</td>\n",
       "      <td>1</td>\n",
       "      <td>[Civil rights, Sources, United States, United ...</td>\n",
       "    </tr>\n",
       "    <tr>\n",
       "      <th>2</th>\n",
       "      <td>3</td>\n",
       "      <td>{E838}</td>\n",
       "      <td>Kennedy, John F. (John Fitzgerald)</td>\n",
       "      <td>1917</td>\n",
       "      <td>1963</td>\n",
       "      <td>34</td>\n",
       "      <td>{u'text/html': u'http://www.gutenberg.org/file...</td>\n",
       "      <td>3</td>\n",
       "      <td>[en]</td>\n",
       "      <td>{United States -- Foreign relations -- 1961-19...</td>\n",
       "      <td>John F. Kennedy's Inaugural Address</td>\n",
       "      <td>Text</td>\n",
       "      <td>1</td>\n",
       "      <td>[1961-1963, Foreign relations, Inaugural addre...</td>\n",
       "    </tr>\n",
       "  </tbody>\n",
       "</table>\n",
       "</div>"
      ],
      "text/plain": [
       "   index         LCC                              author authoryearofbirth  \\\n",
       "0      1  {E201, JK}                   Jefferson, Thomas              1743   \n",
       "1      2    {KF, JK}                       United States              None   \n",
       "2      3      {E838}  Kennedy, John F. (John Fitzgerald)              1917   \n",
       "\n",
       "  authoryearofdeath downloads  \\\n",
       "0              1826       737   \n",
       "1              None       212   \n",
       "2              1963        34   \n",
       "\n",
       "                                             formats id language  \\\n",
       "0  {u'text/html': u'http://www.gutenberg.org/eboo...  1     [en]   \n",
       "1  {u'text/html': u'http://www.gutenberg.org/file...  2     [en]   \n",
       "2  {u'text/html': u'http://www.gutenberg.org/file...  3     [en]   \n",
       "\n",
       "                                            subjects  \\\n",
       "0  {United States. Declaration of Independence, U...   \n",
       "1  {United States. Constitution. 1st-10th Amendme...   \n",
       "2  {United States -- Foreign relations -- 1961-19...   \n",
       "\n",
       "                                               title  type  english  \\\n",
       "0  The Declaration of Independence of the United ...  Text        1   \n",
       "1  The United States Bill of Rights: The Ten Orig...  Text        1   \n",
       "2                John F. Kennedy's Inaugural Address  Text        1   \n",
       "\n",
       "                                           subjects2  \n",
       "0  [History, Revolution, 1775-1783, Sources, Unit...  \n",
       "1  [Civil rights, Sources, United States, United ...  \n",
       "2  [1961-1963, Foreign relations, Inaugural addre...  "
      ]
     },
     "execution_count": 34,
     "metadata": {},
     "output_type": "execute_result"
    }
   ],
   "source": [
    "import string\n",
    "\n",
    "def subject_cleaning(subj_set):\n",
    "    subjs = []\n",
    "    for s in subj_set:\n",
    "        s = s.split('--')\n",
    "        s = [string.strip(i) for i in s]\n",
    "        subjs.extend(s)\n",
    "    return np.unique(subjs) \n",
    "        \n",
    "meta_df['subjects2'] = meta_df.subjects.map(subject_cleaning)\n",
    "meta_df.head(3)"
   ]
  },
  {
   "cell_type": "code",
   "execution_count": 35,
   "metadata": {
    "collapsed": false
   },
   "outputs": [
    {
     "data": {
      "text/plain": [
       "array(['History', 'Revolution, 1775-1783', 'Sources', 'United States',\n",
       "       'United States. Declaration of Independence'], \n",
       "      dtype='|S42')"
      ]
     },
     "execution_count": 35,
     "metadata": {},
     "output_type": "execute_result"
    }
   ],
   "source": [
    "meta_df['subjects2'][0]"
   ]
  },
  {
   "cell_type": "code",
   "execution_count": 37,
   "metadata": {
    "collapsed": false
   },
   "outputs": [
    {
     "data": {
      "text/html": [
       "<div>\n",
       "<table border=\"1\" class=\"dataframe\">\n",
       "  <thead>\n",
       "    <tr style=\"text-align: right;\">\n",
       "      <th></th>\n",
       "      <th>index</th>\n",
       "      <th>LCC</th>\n",
       "      <th>author</th>\n",
       "      <th>authoryearofbirth</th>\n",
       "      <th>authoryearofdeath</th>\n",
       "      <th>downloads</th>\n",
       "      <th>formats</th>\n",
       "      <th>id</th>\n",
       "      <th>language</th>\n",
       "      <th>subjects</th>\n",
       "      <th>title</th>\n",
       "      <th>type</th>\n",
       "      <th>english</th>\n",
       "      <th>subjects2</th>\n",
       "      <th>subjects_there</th>\n",
       "    </tr>\n",
       "  </thead>\n",
       "  <tbody>\n",
       "    <tr>\n",
       "      <th>174</th>\n",
       "      <td>182</td>\n",
       "      <td>{}</td>\n",
       "      <td>None</td>\n",
       "      <td>None</td>\n",
       "      <td>None</td>\n",
       "      <td>0</td>\n",
       "      <td>{}</td>\n",
       "      <td>182</td>\n",
       "      <td>[en]</td>\n",
       "      <td>{}</td>\n",
       "      <td>None</td>\n",
       "      <td>Text</td>\n",
       "      <td>1</td>\n",
       "      <td>[]</td>\n",
       "      <td>0</td>\n",
       "    </tr>\n",
       "    <tr>\n",
       "      <th>175</th>\n",
       "      <td>183</td>\n",
       "      <td>{}</td>\n",
       "      <td>None</td>\n",
       "      <td>None</td>\n",
       "      <td>None</td>\n",
       "      <td>0</td>\n",
       "      <td>{}</td>\n",
       "      <td>183</td>\n",
       "      <td>[en]</td>\n",
       "      <td>{}</td>\n",
       "      <td>None</td>\n",
       "      <td>Text</td>\n",
       "      <td>1</td>\n",
       "      <td>[]</td>\n",
       "      <td>0</td>\n",
       "    </tr>\n",
       "    <tr>\n",
       "      <th>176</th>\n",
       "      <td>184</td>\n",
       "      <td>{}</td>\n",
       "      <td>None</td>\n",
       "      <td>None</td>\n",
       "      <td>None</td>\n",
       "      <td>0</td>\n",
       "      <td>{}</td>\n",
       "      <td>184</td>\n",
       "      <td>[en]</td>\n",
       "      <td>{}</td>\n",
       "      <td>None</td>\n",
       "      <td>Text</td>\n",
       "      <td>1</td>\n",
       "      <td>[]</td>\n",
       "      <td>0</td>\n",
       "    </tr>\n",
       "    <tr>\n",
       "      <th>177</th>\n",
       "      <td>185</td>\n",
       "      <td>{}</td>\n",
       "      <td>None</td>\n",
       "      <td>None</td>\n",
       "      <td>None</td>\n",
       "      <td>0</td>\n",
       "      <td>{}</td>\n",
       "      <td>185</td>\n",
       "      <td>[en]</td>\n",
       "      <td>{}</td>\n",
       "      <td>None</td>\n",
       "      <td>Text</td>\n",
       "      <td>1</td>\n",
       "      <td>[]</td>\n",
       "      <td>0</td>\n",
       "    </tr>\n",
       "    <tr>\n",
       "      <th>178</th>\n",
       "      <td>186</td>\n",
       "      <td>{}</td>\n",
       "      <td>None</td>\n",
       "      <td>None</td>\n",
       "      <td>None</td>\n",
       "      <td>0</td>\n",
       "      <td>{}</td>\n",
       "      <td>186</td>\n",
       "      <td>[en]</td>\n",
       "      <td>{}</td>\n",
       "      <td>None</td>\n",
       "      <td>Text</td>\n",
       "      <td>1</td>\n",
       "      <td>[]</td>\n",
       "      <td>0</td>\n",
       "    </tr>\n",
       "  </tbody>\n",
       "</table>\n",
       "</div>"
      ],
      "text/plain": [
       "     index LCC author authoryearofbirth authoryearofdeath downloads formats  \\\n",
       "174    182  {}   None              None              None         0      {}   \n",
       "175    183  {}   None              None              None         0      {}   \n",
       "176    184  {}   None              None              None         0      {}   \n",
       "177    185  {}   None              None              None         0      {}   \n",
       "178    186  {}   None              None              None         0      {}   \n",
       "\n",
       "      id language subjects title  type  english subjects2  subjects_there  \n",
       "174  182     [en]       {}  None  Text        1        []               0  \n",
       "175  183     [en]       {}  None  Text        1        []               0  \n",
       "176  184     [en]       {}  None  Text        1        []               0  \n",
       "177  185     [en]       {}  None  Text        1        []               0  \n",
       "178  186     [en]       {}  None  Text        1        []               0  "
      ]
     },
     "execution_count": 37,
     "metadata": {},
     "output_type": "execute_result"
    }
   ],
   "source": [
    "meta_df['subjects_there'] = meta_df['subjects2'].map(lambda x: 1 if len(x) > 0 else 0)\n",
    "meta_df[meta_df['subjects_there'] == 0].head(5)"
   ]
  },
  {
   "cell_type": "code",
   "execution_count": 38,
   "metadata": {
    "collapsed": false
   },
   "outputs": [
    {
     "data": {
      "text/plain": [
       "(5254, 15)"
      ]
     },
     "execution_count": 38,
     "metadata": {},
     "output_type": "execute_result"
    }
   ],
   "source": [
    "meta_df[meta_df['subjects_there'] == 0].shape"
   ]
  },
  {
   "cell_type": "markdown",
   "metadata": {},
   "source": [
    "## I'm going to remove these columns where there is no author or title\n",
    "\n",
    "There are many books that showed up in my dataframe with a book id but no data about them. This means that for some reason that book has been made unavailable on Project Gutenberg for some reason or another.\n",
    "After removing these books, I will still have some empty subjects, but not as many."
   ]
  },
  {
   "cell_type": "code",
   "execution_count": 39,
   "metadata": {
    "collapsed": false
   },
   "outputs": [],
   "source": [
    "meta_df = meta_df[(meta_df['title'].notnull()) & (meta_df['author'].notnull())]"
   ]
  },
  {
   "cell_type": "code",
   "execution_count": 41,
   "metadata": {
    "collapsed": false
   },
   "outputs": [
    {
     "data": {
      "text/html": [
       "<div>\n",
       "<table border=\"1\" class=\"dataframe\">\n",
       "  <thead>\n",
       "    <tr style=\"text-align: right;\">\n",
       "      <th></th>\n",
       "      <th>index</th>\n",
       "      <th>LCC</th>\n",
       "      <th>author</th>\n",
       "      <th>authoryearofbirth</th>\n",
       "      <th>authoryearofdeath</th>\n",
       "      <th>downloads</th>\n",
       "      <th>formats</th>\n",
       "      <th>id</th>\n",
       "      <th>language</th>\n",
       "      <th>subjects</th>\n",
       "      <th>title</th>\n",
       "      <th>type</th>\n",
       "      <th>english</th>\n",
       "      <th>subjects2</th>\n",
       "      <th>subjects_there</th>\n",
       "    </tr>\n",
       "  </thead>\n",
       "  <tbody>\n",
       "    <tr>\n",
       "      <th>17760</th>\n",
       "      <td>18458</td>\n",
       "      <td>{PQ}</td>\n",
       "      <td>Colonna, Francesco</td>\n",
       "      <td>None</td>\n",
       "      <td>1527</td>\n",
       "      <td>89</td>\n",
       "      <td>{u'image/jpeg': u'http://www.gutenberg.org/cac...</td>\n",
       "      <td>18459</td>\n",
       "      <td>[en]</td>\n",
       "      <td>{}</td>\n",
       "      <td>Hypnerotomachia: The Strife of Loue in a Dreame</td>\n",
       "      <td>Text</td>\n",
       "      <td>1</td>\n",
       "      <td>[]</td>\n",
       "      <td>0</td>\n",
       "    </tr>\n",
       "    <tr>\n",
       "      <th>22067</th>\n",
       "      <td>23099</td>\n",
       "      <td>{AC}</td>\n",
       "      <td>De Morgan, Augustus</td>\n",
       "      <td>1806</td>\n",
       "      <td>1871</td>\n",
       "      <td>32</td>\n",
       "      <td>{u'text/plain; charset=us-ascii': u'http://www...</td>\n",
       "      <td>23100</td>\n",
       "      <td>[en]</td>\n",
       "      <td>{}</td>\n",
       "      <td>A Budget of Paradoxes, Volume I</td>\n",
       "      <td>Text</td>\n",
       "      <td>1</td>\n",
       "      <td>[]</td>\n",
       "      <td>0</td>\n",
       "    </tr>\n",
       "    <tr>\n",
       "      <th>23012</th>\n",
       "      <td>24095</td>\n",
       "      <td>{PQ}</td>\n",
       "      <td>Huysmans, J.-K. (Joris-Karl)</td>\n",
       "      <td>1848</td>\n",
       "      <td>1907</td>\n",
       "      <td>29</td>\n",
       "      <td>{u'text/plain; charset=us-ascii': u'http://www...</td>\n",
       "      <td>24096</td>\n",
       "      <td>[en]</td>\n",
       "      <td>{}</td>\n",
       "      <td>En Route</td>\n",
       "      <td>Text</td>\n",
       "      <td>1</td>\n",
       "      <td>[]</td>\n",
       "      <td>0</td>\n",
       "    </tr>\n",
       "  </tbody>\n",
       "</table>\n",
       "</div>"
      ],
      "text/plain": [
       "       index   LCC                        author authoryearofbirth  \\\n",
       "17760  18458  {PQ}            Colonna, Francesco              None   \n",
       "22067  23099  {AC}           De Morgan, Augustus              1806   \n",
       "23012  24095  {PQ}  Huysmans, J.-K. (Joris-Karl)              1848   \n",
       "\n",
       "      authoryearofdeath downloads  \\\n",
       "17760              1527        89   \n",
       "22067              1871        32   \n",
       "23012              1907        29   \n",
       "\n",
       "                                                 formats     id language  \\\n",
       "17760  {u'image/jpeg': u'http://www.gutenberg.org/cac...  18459     [en]   \n",
       "22067  {u'text/plain; charset=us-ascii': u'http://www...  23100     [en]   \n",
       "23012  {u'text/plain; charset=us-ascii': u'http://www...  24096     [en]   \n",
       "\n",
       "      subjects                                            title  type  \\\n",
       "17760       {}  Hypnerotomachia: The Strife of Loue in a Dreame  Text   \n",
       "22067       {}                  A Budget of Paradoxes, Volume I  Text   \n",
       "23012       {}                                         En Route  Text   \n",
       "\n",
       "       english subjects2  subjects_there  \n",
       "17760        1        []               0  \n",
       "22067        1        []               0  \n",
       "23012        1        []               0  "
      ]
     },
     "execution_count": 41,
     "metadata": {},
     "output_type": "execute_result"
    }
   ],
   "source": [
    "meta_df[meta_df['subjects_there'] == 0].head(3)"
   ]
  },
  {
   "cell_type": "code",
   "execution_count": 42,
   "metadata": {
    "collapsed": false
   },
   "outputs": [
    {
     "data": {
      "text/plain": [
       "(41429, 15)"
      ]
     },
     "execution_count": 42,
     "metadata": {},
     "output_type": "execute_result"
    }
   ],
   "source": [
    "meta_df.shape"
   ]
  },
  {
   "cell_type": "code",
   "execution_count": 43,
   "metadata": {
    "collapsed": true
   },
   "outputs": [],
   "source": [
    "meta_df.reset_index(inplace = True, drop = True)"
   ]
  },
  {
   "cell_type": "code",
   "execution_count": 50,
   "metadata": {
    "collapsed": false
   },
   "outputs": [],
   "source": [
    "meta_df.drop(['index', 'english', 'subjects_there'], axis = 1, inplace = True)"
   ]
  },
  {
   "cell_type": "code",
   "execution_count": 51,
   "metadata": {
    "collapsed": false
   },
   "outputs": [
    {
     "data": {
      "text/html": [
       "<div>\n",
       "<table border=\"1\" class=\"dataframe\">\n",
       "  <thead>\n",
       "    <tr style=\"text-align: right;\">\n",
       "      <th></th>\n",
       "      <th>LCC</th>\n",
       "      <th>author</th>\n",
       "      <th>authoryearofbirth</th>\n",
       "      <th>authoryearofdeath</th>\n",
       "      <th>downloads</th>\n",
       "      <th>formats</th>\n",
       "      <th>id</th>\n",
       "      <th>language</th>\n",
       "      <th>subjects</th>\n",
       "      <th>title</th>\n",
       "      <th>type</th>\n",
       "      <th>subjects2</th>\n",
       "    </tr>\n",
       "  </thead>\n",
       "  <tbody>\n",
       "    <tr>\n",
       "      <th>0</th>\n",
       "      <td>{E201, JK}</td>\n",
       "      <td>Jefferson, Thomas</td>\n",
       "      <td>1743</td>\n",
       "      <td>1826</td>\n",
       "      <td>737</td>\n",
       "      <td>{u'text/html': u'http://www.gutenberg.org/eboo...</td>\n",
       "      <td>1</td>\n",
       "      <td>[en]</td>\n",
       "      <td>{United States. Declaration of Independence, U...</td>\n",
       "      <td>The Declaration of Independence of the United ...</td>\n",
       "      <td>Text</td>\n",
       "      <td>[History, Revolution, 1775-1783, Sources, Unit...</td>\n",
       "    </tr>\n",
       "    <tr>\n",
       "      <th>1</th>\n",
       "      <td>{KF, JK}</td>\n",
       "      <td>United States</td>\n",
       "      <td>None</td>\n",
       "      <td>None</td>\n",
       "      <td>212</td>\n",
       "      <td>{u'text/html': u'http://www.gutenberg.org/file...</td>\n",
       "      <td>2</td>\n",
       "      <td>[en]</td>\n",
       "      <td>{United States. Constitution. 1st-10th Amendme...</td>\n",
       "      <td>The United States Bill of Rights: The Ten Orig...</td>\n",
       "      <td>Text</td>\n",
       "      <td>[Civil rights, Sources, United States, United ...</td>\n",
       "    </tr>\n",
       "  </tbody>\n",
       "</table>\n",
       "</div>"
      ],
      "text/plain": [
       "          LCC             author authoryearofbirth authoryearofdeath  \\\n",
       "0  {E201, JK}  Jefferson, Thomas              1743              1826   \n",
       "1    {KF, JK}      United States              None              None   \n",
       "\n",
       "  downloads                                            formats id language  \\\n",
       "0       737  {u'text/html': u'http://www.gutenberg.org/eboo...  1     [en]   \n",
       "1       212  {u'text/html': u'http://www.gutenberg.org/file...  2     [en]   \n",
       "\n",
       "                                            subjects  \\\n",
       "0  {United States. Declaration of Independence, U...   \n",
       "1  {United States. Constitution. 1st-10th Amendme...   \n",
       "\n",
       "                                               title  type  \\\n",
       "0  The Declaration of Independence of the United ...  Text   \n",
       "1  The United States Bill of Rights: The Ten Orig...  Text   \n",
       "\n",
       "                                           subjects2  \n",
       "0  [History, Revolution, 1775-1783, Sources, Unit...  \n",
       "1  [Civil rights, Sources, United States, United ...  "
      ]
     },
     "execution_count": 51,
     "metadata": {},
     "output_type": "execute_result"
    }
   ],
   "source": [
    "meta_df.head(2)"
   ]
  },
  {
   "cell_type": "code",
   "execution_count": 52,
   "metadata": {
    "collapsed": false
   },
   "outputs": [],
   "source": [
    "meta_df = meta_df.reindex_axis(['id', 'title', 'author', 'LCC', 'downloads', 'subjects', 'subjects2', 'formats', 'authoryearofbirth', 'authoryearofdeath', 'type', 'language'], axis = 1)"
   ]
  },
  {
   "cell_type": "code",
   "execution_count": 53,
   "metadata": {
    "collapsed": false
   },
   "outputs": [
    {
     "data": {
      "text/html": [
       "<div>\n",
       "<table border=\"1\" class=\"dataframe\">\n",
       "  <thead>\n",
       "    <tr style=\"text-align: right;\">\n",
       "      <th></th>\n",
       "      <th>id</th>\n",
       "      <th>title</th>\n",
       "      <th>author</th>\n",
       "      <th>LCC</th>\n",
       "      <th>downloads</th>\n",
       "      <th>subjects</th>\n",
       "      <th>subjects2</th>\n",
       "      <th>formats</th>\n",
       "      <th>authoryearofbirth</th>\n",
       "      <th>authoryearofdeath</th>\n",
       "      <th>type</th>\n",
       "      <th>language</th>\n",
       "    </tr>\n",
       "  </thead>\n",
       "  <tbody>\n",
       "    <tr>\n",
       "      <th>0</th>\n",
       "      <td>1</td>\n",
       "      <td>The Declaration of Independence of the United ...</td>\n",
       "      <td>Jefferson, Thomas</td>\n",
       "      <td>{E201, JK}</td>\n",
       "      <td>737</td>\n",
       "      <td>{United States. Declaration of Independence, U...</td>\n",
       "      <td>[History, Revolution, 1775-1783, Sources, Unit...</td>\n",
       "      <td>{u'text/html': u'http://www.gutenberg.org/eboo...</td>\n",
       "      <td>1743</td>\n",
       "      <td>1826</td>\n",
       "      <td>Text</td>\n",
       "      <td>[en]</td>\n",
       "    </tr>\n",
       "    <tr>\n",
       "      <th>1</th>\n",
       "      <td>2</td>\n",
       "      <td>The United States Bill of Rights: The Ten Orig...</td>\n",
       "      <td>United States</td>\n",
       "      <td>{KF, JK}</td>\n",
       "      <td>212</td>\n",
       "      <td>{United States. Constitution. 1st-10th Amendme...</td>\n",
       "      <td>[Civil rights, Sources, United States, United ...</td>\n",
       "      <td>{u'text/html': u'http://www.gutenberg.org/file...</td>\n",
       "      <td>None</td>\n",
       "      <td>None</td>\n",
       "      <td>Text</td>\n",
       "      <td>[en]</td>\n",
       "    </tr>\n",
       "  </tbody>\n",
       "</table>\n",
       "</div>"
      ],
      "text/plain": [
       "  id                                              title             author  \\\n",
       "0  1  The Declaration of Independence of the United ...  Jefferson, Thomas   \n",
       "1  2  The United States Bill of Rights: The Ten Orig...      United States   \n",
       "\n",
       "          LCC downloads                                           subjects  \\\n",
       "0  {E201, JK}       737  {United States. Declaration of Independence, U...   \n",
       "1    {KF, JK}       212  {United States. Constitution. 1st-10th Amendme...   \n",
       "\n",
       "                                           subjects2  \\\n",
       "0  [History, Revolution, 1775-1783, Sources, Unit...   \n",
       "1  [Civil rights, Sources, United States, United ...   \n",
       "\n",
       "                                             formats authoryearofbirth  \\\n",
       "0  {u'text/html': u'http://www.gutenberg.org/eboo...              1743   \n",
       "1  {u'text/html': u'http://www.gutenberg.org/file...              None   \n",
       "\n",
       "  authoryearofdeath  type language  \n",
       "0              1826  Text     [en]  \n",
       "1              None  Text     [en]  "
      ]
     },
     "execution_count": 53,
     "metadata": {},
     "output_type": "execute_result"
    }
   ],
   "source": [
    "meta_df.head(2)"
   ]
  },
  {
   "cell_type": "code",
   "execution_count": 54,
   "metadata": {
    "collapsed": false
   },
   "outputs": [
    {
     "data": {
      "text/plain": [
       "(41429, 12)"
      ]
     },
     "execution_count": 54,
     "metadata": {},
     "output_type": "execute_result"
    }
   ],
   "source": [
    "meta_df.shape"
   ]
  },
  {
   "cell_type": "markdown",
   "metadata": {},
   "source": [
    "## At this point I'm going to save a csv file\n",
    "I want this dataframe to be available to me in a new notebook so I can do further anaysis."
   ]
  },
  {
   "cell_type": "code",
   "execution_count": null,
   "metadata": {
    "collapsed": true
   },
   "outputs": [],
   "source": [
    "meta_df.to_csv('gutenberg_metadata_en.csv', encoding = 'utf8')"
   ]
  }
 ],
 "metadata": {
  "anaconda-cloud": {},
  "kernelspec": {
   "display_name": "Python [dsi]",
   "language": "python",
   "name": "Python [dsi]"
  },
  "language_info": {
   "codemirror_mode": {
    "name": "ipython",
    "version": 2
   },
   "file_extension": ".py",
   "mimetype": "text/x-python",
   "name": "python",
   "nbconvert_exporter": "python",
   "pygments_lexer": "ipython2",
   "version": "2.7.12"
  }
 },
 "nbformat": 4,
 "nbformat_minor": 0
}

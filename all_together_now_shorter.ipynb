{
 "cells": [
  {
   "cell_type": "code",
   "execution_count": 1,
   "metadata": {
    "collapsed": true
   },
   "outputs": [],
   "source": [
    "import pandas as pd\n",
    "import numpy as np\n",
    "import matplotlib.pyplot as plt\n",
    "import seaborn as sns\n",
    "\n",
    "from sklearn.metrics.pairwise import cosine_distances, cosine_similarity\n",
    "\n",
    "%matplotlib inline\n",
    "%config InlineBackend.feature_format = 'retina'"
   ]
  },
  {
   "cell_type": "markdown",
   "metadata": {},
   "source": [
    "### Loading in the DataFrame that I made which includes data about all the books. The text of the books has been removed now that I have data about the words, syllables, reading levels, and subjects extracted. I also make the subjects easier to parse through and load up the tfidf vectorized books dataframe and the count vectorized books dataframe."
   ]
  },
  {
   "cell_type": "code",
   "execution_count": 2,
   "metadata": {
    "collapsed": true
   },
   "outputs": [],
   "source": [
    "meta_stats = pd.read_csv('meta_stats_all_notext', encoding = 'utf8', index_col = 'Unnamed: 0')"
   ]
  },
  {
   "cell_type": "code",
   "execution_count": 3,
   "metadata": {
    "collapsed": false
   },
   "outputs": [],
   "source": [
    "meta_stats['subjects2'] = meta_stats['subjects2'].map(lambda x: x.replace('[', '').replace(']','').split(','))\n",
    "\n",
    "def clean_sub2(sublist):\n",
    "    subs = []\n",
    "    for s in sublist:\n",
    "        subs.append(s.strip())\n",
    "    return subs\n",
    "\n",
    "meta_stats['subjects2'] = meta_stats['subjects2'].map(clean_sub2)"
   ]
  },
  {
   "cell_type": "code",
   "execution_count": 4,
   "metadata": {
    "collapsed": false
   },
   "outputs": [],
   "source": [
    "def unique_words(subjects):\n",
    "    s = []\n",
    "    for x in subjects:\n",
    "        s.extend(x.split(' '))\n",
    "    return np.unique(s)\n",
    "\n",
    "meta_stats['subjects3'] = meta_stats['subjects2'].map(unique_words)"
   ]
  },
  {
   "cell_type": "code",
   "execution_count": 6,
   "metadata": {
    "collapsed": false
   },
   "outputs": [],
   "source": [
    "tvec_all = pd.read_csv('tvec_all', encoding = 'utf8', index_col = 'Unnamed: 0')"
   ]
  },
  {
   "cell_type": "code",
   "execution_count": 7,
   "metadata": {
    "collapsed": false
   },
   "outputs": [],
   "source": [
    "cvec_all = pd.read_csv('cvec_all', encoding = 'utf8', index_col = 'Unnamed: 0')"
   ]
  },
  {
   "cell_type": "code",
   "execution_count": 9,
   "metadata": {
    "collapsed": false
   },
   "outputs": [],
   "source": [
    "def jaccard(list1, list2):\n",
    "    \n",
    "    a = set(list1)\n",
    "    b = set(list2)\n",
    "\n",
    "    return round(len(a.intersection(b)) / float(len(a.union(b))), 5)"
   ]
  },
  {
   "cell_type": "markdown",
   "metadata": {},
   "source": [
    "### The user selects a book and the dataframe is narrowed down to only include the books within a range of appropriate reading levels of that book."
   ]
  },
  {
   "cell_type": "code",
   "execution_count": 48,
   "metadata": {
    "collapsed": false
   },
   "outputs": [],
   "source": [
    "def recommend_books(title):\n",
    "    \n",
    "    try:\n",
    "        chosen_title = title\n",
    "        chosen_book = meta_stats[meta_stats['title'] == chosen_title]\n",
    "        chosen_id = chosen_book['book_id'].values[0]\n",
    "        print ('Looking up books that are like %s' % title)\n",
    "    except:\n",
    "        print ('This book is not in the dataset. Try another book!')\n",
    "        return None\n",
    "    \n",
    "    #Determining reading level of the recommended books\n",
    "    \n",
    "    flesch_k_max = chosen_book['flesch_kincaid_grade'].values[0] + 0.25\n",
    "    flesch_k_min = chosen_book['flesch_kincaid_grade'].values[0] - 1.00\n",
    "    print ('%s has a reading level of %s' % (title, str(round(chosen_book['flesch_kincaid_grade'], 2))))\n",
    "    print (\"The reading level of your recommended books will be between\", round(flesch_k_min, 2), \"and\", round(flesch_k_max, 2))\n",
    "    \n",
    "    flesch_k_subset = meta_stats[meta_stats['flesch_kincaid_grade'].between(flesch_k_min, flesch_k_max)].reset_index(drop = True)\n",
    "    print (\"There are\", flesch_k_subset.shape[0], \"books that are within your reading level range.\")\n",
    "        \n",
    "    subset_bids = flesch_k_subset[['book_id']]\n",
    "    \n",
    "    #Creating a column to recommend books based upon TFIDF\n",
    "    tvec_subset = subset_bids.merge(tvec_all, how = 'inner', on = 'book_id').reset_index(drop = True)\n",
    "    book_ids = tvec_subset.book_id\n",
    "    tvec_subset = tvec_subset.drop('book_id', axis = 1)\n",
    "\n",
    "    t_subset_distances = cosine_distances(tvec_subset)\n",
    "    t_subset_distances_df = pd.DataFrame(t_subset_distances, columns=book_ids)\n",
    "    t_subset_distances_df['book_id'] = book_ids\n",
    "\n",
    "    t_chosen_distances = t_subset_distances_df[[chosen_id, 'book_id']]\n",
    "    flesch_k_subset = flesch_k_subset.merge(t_chosen_distances, how = 'inner', on = 'book_id')\n",
    "    flesch_k_subset.rename(columns = {chosen_id : 'tfidf_distances'}, inplace = True)\n",
    "    \n",
    "    #Creating a column to recommend books based upon count vectorizer\n",
    "    cvec_subset = subset_bids.merge(cvec_all, how = 'inner', on = 'book_id').reset_index(drop = True)\n",
    "    book_ids = cvec_subset.book_id\n",
    "    \n",
    "    cvec_subset = cvec_subset.drop('book_id', axis = 1)\n",
    "\n",
    "    c_subset_distances = cosine_distances(cvec_subset)\n",
    "    c_subset_distances_df = pd.DataFrame(c_subset_distances, columns=book_ids)\n",
    "    c_subset_distances_df['book_id'] = book_ids\n",
    "\n",
    "    c_chosen_distances = c_subset_distances_df[[chosen_id, 'book_id']]\n",
    "    flesch_k_subset = flesch_k_subset.merge(c_chosen_distances, how = 'inner', on = 'book_id')\n",
    "    flesch_k_subset.rename(columns = {chosen_id : 'cvec_distances'}, inplace = True)\n",
    "    \n",
    "    #Creating a column to recommend books based upon subject similarity\n",
    "    \n",
    "    subject_jaccards = []\n",
    "\n",
    "    for book in range(flesch_k_subset.shape[0]):\n",
    "        subject_jaccards.append(jaccard(flesch_k_subset.ix[book,'subjects3'].tolist(), \n",
    "                                                chosen_book['subjects3'].values[0].tolist()))\n",
    "    \n",
    "    flesch_k_subset['subject_jaccard'] = subject_jaccards\n",
    "\n",
    "    mask_title = flesch_k_subset['title'] != chosen_title\n",
    "    s_recs = flesch_k_subset[mask_title].sort_values('subject_jaccard', ascending = False).head(10).title.values + ' by ' + flesch_k_subset[mask_title].sort_values('subject_jaccard', ascending = False).head(10).author.values \n",
    "    t_recs = flesch_k_subset[mask_title].sort_values('tfidf_distances').head(10).title.values + ' by ' + flesch_k_subset[mask_title].sort_values('tfidf_distances').head(10).author.values \n",
    "    c_recs = flesch_k_subset[mask_title].sort_values('cvec_distances').head(10).title.values + ' by ' + flesch_k_subset[mask_title].sort_values('cvec_distances').head(10).author.values \n",
    "\n",
    "    recommended_books = pd.DataFrame({\n",
    "        'Subject Based Recommendation' : s_recs,\n",
    "        'tf-idf Based Recommendation' : t_recs,\n",
    "        'Count Vectorizer Based Recommendation' : c_recs\n",
    "    })\n",
    "\n",
    "    \n",
    "    return recommended_books"
   ]
  },
  {
   "cell_type": "code",
   "execution_count": 49,
   "metadata": {
    "collapsed": false,
    "scrolled": true
   },
   "outputs": [
    {
     "name": "stdout",
     "output_type": "stream",
     "text": [
      "Looking up books that are like The War of the Worlds\n",
      "The War of the Worlds has a reading level of 9.96\n",
      "The reading level of your recommended books will be between 8.96 and 10.21\n",
      "There are 2881 books that are within your reading level range.\n"
     ]
    },
    {
     "data": {
      "text/html": [
       "<div>\n",
       "<table border=\"1\" class=\"dataframe\">\n",
       "  <thead>\n",
       "    <tr style=\"text-align: right;\">\n",
       "      <th></th>\n",
       "      <th>Count Vectorizer Based Recommendation</th>\n",
       "      <th>Subject Based Recommendation</th>\n",
       "      <th>tf-idf Based Recommendation</th>\n",
       "    </tr>\n",
       "  </thead>\n",
       "  <tbody>\n",
       "    <tr>\n",
       "      <th>0</th>\n",
       "      <td>Pharaoh's Broker: Being the Very Remarkable Ex...</td>\n",
       "      <td>Doctor Jones' Picnic by Chapman, S. E. (Samuel...</td>\n",
       "      <td>The Plattner Story, and Others by Wells, H. G....</td>\n",
       "    </tr>\n",
       "    <tr>\n",
       "      <th>1</th>\n",
       "      <td>A Trip to Venus: A Novel by Munro, John</td>\n",
       "      <td>The Hitch Hikers by McCain, Vernon L.</td>\n",
       "      <td>The War in the Air by Wells, H. G. (Herbert Ge...</td>\n",
       "    </tr>\n",
       "    <tr>\n",
       "      <th>2</th>\n",
       "      <td>Mars Confidential by Browne, Howard</td>\n",
       "      <td>Thuvia, Maid of Mars by Burroughs, Edgar Rice</td>\n",
       "      <td>In the Days of the Comet by Wells, H. G. (Herb...</td>\n",
       "    </tr>\n",
       "    <tr>\n",
       "      <th>3</th>\n",
       "      <td>A Trip to Mars by Aubrey, Frank</td>\n",
       "      <td>The War in the Air by Wells, H. G. (Herbert Ge...</td>\n",
       "      <td>The Research Magnificent by Wells, H. G. (Herb...</td>\n",
       "    </tr>\n",
       "    <tr>\n",
       "      <th>4</th>\n",
       "      <td>Cinq Mars — Volume 5 by Vigny, Alfred de</td>\n",
       "      <td>Keep Out by Brown, Fredric</td>\n",
       "      <td>The Time Machine by Wells, H. G. (Herbert George)</td>\n",
       "    </tr>\n",
       "    <tr>\n",
       "      <th>5</th>\n",
       "      <td>Keep Out by Brown, Fredric</td>\n",
       "      <td>The Air Patrol: A Story of the North-west Fron...</td>\n",
       "      <td>The Laird's Luck and Other Fireside Tales by Q...</td>\n",
       "    </tr>\n",
       "    <tr>\n",
       "      <th>6</th>\n",
       "      <td>Invaders from the Infinite by Campbell, John W...</td>\n",
       "      <td>Mars Confidential by Browne, Howard</td>\n",
       "      <td>What Necessity Knows by Dougall, L. (Lily)</td>\n",
       "    </tr>\n",
       "    <tr>\n",
       "      <th>7</th>\n",
       "      <td>The War in the Air by Wells, H. G. (Herbert Ge...</td>\n",
       "      <td>A Journey to the Centre of the Earth by Verne,...</td>\n",
       "      <td>The Ball and the Cross by Chesterton, G. K. (G...</td>\n",
       "    </tr>\n",
       "    <tr>\n",
       "      <th>8</th>\n",
       "      <td>Tono-Bungay by Wells, H. G. (Herbert George)</td>\n",
       "      <td>A Trip to Mars by Aubrey, Frank</td>\n",
       "      <td>Tono-Bungay by Wells, H. G. (Herbert George)</td>\n",
       "    </tr>\n",
       "    <tr>\n",
       "      <th>9</th>\n",
       "      <td>The Black Star Passes by Campbell, John W., Jr...</td>\n",
       "      <td>The Chessmen of Mars by Burroughs, Edgar Rice</td>\n",
       "      <td>Taras Bulba, and Other Tales by Gogol, Nikolai...</td>\n",
       "    </tr>\n",
       "  </tbody>\n",
       "</table>\n",
       "</div>"
      ],
      "text/plain": [
       "               Count Vectorizer Based Recommendation  \\\n",
       "0  Pharaoh's Broker: Being the Very Remarkable Ex...   \n",
       "1            A Trip to Venus: A Novel by Munro, John   \n",
       "2                Mars Confidential by Browne, Howard   \n",
       "3                    A Trip to Mars by Aubrey, Frank   \n",
       "4           Cinq Mars — Volume 5 by Vigny, Alfred de   \n",
       "5                         Keep Out by Brown, Fredric   \n",
       "6  Invaders from the Infinite by Campbell, John W...   \n",
       "7  The War in the Air by Wells, H. G. (Herbert Ge...   \n",
       "8       Tono-Bungay by Wells, H. G. (Herbert George)   \n",
       "9  The Black Star Passes by Campbell, John W., Jr...   \n",
       "\n",
       "                        Subject Based Recommendation  \\\n",
       "0  Doctor Jones' Picnic by Chapman, S. E. (Samuel...   \n",
       "1              The Hitch Hikers by McCain, Vernon L.   \n",
       "2      Thuvia, Maid of Mars by Burroughs, Edgar Rice   \n",
       "3  The War in the Air by Wells, H. G. (Herbert Ge...   \n",
       "4                         Keep Out by Brown, Fredric   \n",
       "5  The Air Patrol: A Story of the North-west Fron...   \n",
       "6                Mars Confidential by Browne, Howard   \n",
       "7  A Journey to the Centre of the Earth by Verne,...   \n",
       "8                    A Trip to Mars by Aubrey, Frank   \n",
       "9      The Chessmen of Mars by Burroughs, Edgar Rice   \n",
       "\n",
       "                         tf-idf Based Recommendation  \n",
       "0  The Plattner Story, and Others by Wells, H. G....  \n",
       "1  The War in the Air by Wells, H. G. (Herbert Ge...  \n",
       "2  In the Days of the Comet by Wells, H. G. (Herb...  \n",
       "3  The Research Magnificent by Wells, H. G. (Herb...  \n",
       "4  The Time Machine by Wells, H. G. (Herbert George)  \n",
       "5  The Laird's Luck and Other Fireside Tales by Q...  \n",
       "6         What Necessity Knows by Dougall, L. (Lily)  \n",
       "7  The Ball and the Cross by Chesterton, G. K. (G...  \n",
       "8       Tono-Bungay by Wells, H. G. (Herbert George)  \n",
       "9  Taras Bulba, and Other Tales by Gogol, Nikolai...  "
      ]
     },
     "execution_count": 49,
     "metadata": {},
     "output_type": "execute_result"
    }
   ],
   "source": [
    "recommend_books(\"The War of the Worlds\")"
   ]
  },
  {
   "cell_type": "code",
   "execution_count": null,
   "metadata": {
    "collapsed": true
   },
   "outputs": [],
   "source": []
  }
 ],
 "metadata": {
  "anaconda-cloud": {},
  "kernelspec": {
   "display_name": "Python [dsi]",
   "language": "python",
   "name": "Python [dsi]"
  },
  "language_info": {
   "codemirror_mode": {
    "name": "ipython",
    "version": 2
   },
   "file_extension": ".py",
   "mimetype": "text/x-python",
   "name": "python",
   "nbconvert_exporter": "python",
   "pygments_lexer": "ipython2",
   "version": "2.7.12"
  }
 },
 "nbformat": 4,
 "nbformat_minor": 0
}

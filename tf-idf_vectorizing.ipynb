{
 "cells": [
  {
   "cell_type": "code",
   "execution_count": 19,
   "metadata": {
    "collapsed": true
   },
   "outputs": [],
   "source": [
    "import pandas as pd\n",
    "import numpy as np\n",
    "import matplotlib.pyplot as plt\n",
    "import seaborn as sns\n",
    "from sklearn.feature_extraction.text import TfidfVectorizer\n",
    "from sklearn.preprocessing import StandardScaler, minmax_scale\n",
    "\n",
    "\n",
    "\n",
    "%matplotlib inline\n",
    "%config InlineBackend.feature_format = 'retina'\n"
   ]
  },
  {
   "cell_type": "code",
   "execution_count": 5,
   "metadata": {
    "collapsed": true
   },
   "outputs": [],
   "source": [
    "meta_df = pd.read_csv('gutenberg_metadata_en.csv', index_col = 'Unnamed: 0')"
   ]
  },
  {
   "cell_type": "code",
   "execution_count": 7,
   "metadata": {
    "collapsed": false
   },
   "outputs": [],
   "source": [
    "meta_df['literature'] = meta_df['subjects2'].map(lambda sub: 1 if 'literature' in str(sub).lower().replace(\"'\", '') else 0)\n",
    "meta_df['fiction'] = meta_df['subjects2'].map(lambda sub: 1 if 'fiction' in str(sub).lower().replace(\"'\", '') else 0)"
   ]
  },
  {
   "cell_type": "code",
   "execution_count": 14,
   "metadata": {
    "collapsed": false
   },
   "outputs": [
    {
     "data": {
      "text/plain": [
       "(16049, 14)"
      ]
     },
     "execution_count": 14,
     "metadata": {},
     "output_type": "execute_result"
    }
   ],
   "source": [
    "lit_fiction = meta_df[(meta_df.literature == 1) | (meta_df.fiction == 1)].reset_index(drop = True)\n",
    "lit_fiction.shape"
   ]
  },
  {
   "cell_type": "code",
   "execution_count": 9,
   "metadata": {
    "collapsed": false
   },
   "outputs": [
    {
     "data": {
      "text/html": [
       "<div>\n",
       "<table border=\"1\" class=\"dataframe\">\n",
       "  <thead>\n",
       "    <tr style=\"text-align: right;\">\n",
       "      <th></th>\n",
       "      <th>id</th>\n",
       "      <th>title</th>\n",
       "      <th>author</th>\n",
       "      <th>LCC</th>\n",
       "      <th>downloads</th>\n",
       "      <th>subjects</th>\n",
       "      <th>subjects2</th>\n",
       "      <th>formats</th>\n",
       "      <th>authoryearofbirth</th>\n",
       "      <th>authoryearofdeath</th>\n",
       "      <th>type</th>\n",
       "      <th>language</th>\n",
       "      <th>literature</th>\n",
       "      <th>fiction</th>\n",
       "    </tr>\n",
       "  </thead>\n",
       "  <tbody>\n",
       "    <tr>\n",
       "      <th>0</th>\n",
       "      <td>15</td>\n",
       "      <td>Moby Dick</td>\n",
       "      <td>Melville, Herman</td>\n",
       "      <td>{PS}</td>\n",
       "      <td>707</td>\n",
       "      <td>{Ship captains -- Fiction, Whaling ships -- Fi...</td>\n",
       "      <td>[Adventure stories, Ahab, Captain (Fictitious ...</td>\n",
       "      <td>{u'text/html': u'http://www.gutenberg.org/eboo...</td>\n",
       "      <td>1819.0</td>\n",
       "      <td>1891.0</td>\n",
       "      <td>Text</td>\n",
       "      <td>[en]</td>\n",
       "      <td>0</td>\n",
       "      <td>1</td>\n",
       "    </tr>\n",
       "    <tr>\n",
       "      <th>1</th>\n",
       "      <td>16</td>\n",
       "      <td>Peter Pan</td>\n",
       "      <td>Barrie, J. M. (James Matthew)</td>\n",
       "      <td>{PZ, PR}</td>\n",
       "      <td>4778</td>\n",
       "      <td>{Peter Pan (Fictitious character) -- Fiction, ...</td>\n",
       "      <td>[Fairies, Fantasy, Fiction, Juvenile fiction, ...</td>\n",
       "      <td>{u'text/plain; charset=utf-8': u'http://www.gu...</td>\n",
       "      <td>1860.0</td>\n",
       "      <td>1937.0</td>\n",
       "      <td>Text</td>\n",
       "      <td>[en]</td>\n",
       "      <td>0</td>\n",
       "      <td>1</td>\n",
       "    </tr>\n",
       "  </tbody>\n",
       "</table>\n",
       "</div>"
      ],
      "text/plain": [
       "   id      title                         author       LCC  downloads  \\\n",
       "0  15  Moby Dick               Melville, Herman      {PS}        707   \n",
       "1  16  Peter Pan  Barrie, J. M. (James Matthew)  {PZ, PR}       4778   \n",
       "\n",
       "                                            subjects  \\\n",
       "0  {Ship captains -- Fiction, Whaling ships -- Fi...   \n",
       "1  {Peter Pan (Fictitious character) -- Fiction, ...   \n",
       "\n",
       "                                           subjects2  \\\n",
       "0  [Adventure stories, Ahab, Captain (Fictitious ...   \n",
       "1  [Fairies, Fantasy, Fiction, Juvenile fiction, ...   \n",
       "\n",
       "                                             formats  authoryearofbirth  \\\n",
       "0  {u'text/html': u'http://www.gutenberg.org/eboo...             1819.0   \n",
       "1  {u'text/plain; charset=utf-8': u'http://www.gu...             1860.0   \n",
       "\n",
       "   authoryearofdeath  type language  literature  fiction  \n",
       "0             1891.0  Text     [en]           0        1  \n",
       "1             1937.0  Text     [en]           0        1  "
      ]
     },
     "execution_count": 9,
     "metadata": {},
     "output_type": "execute_result"
    }
   ],
   "source": [
    "lit_fiction.head(2)"
   ]
  },
  {
   "cell_type": "code",
   "execution_count": 15,
   "metadata": {
    "collapsed": false
   },
   "outputs": [
    {
     "data": {
      "text/plain": [
       "(699, 2)"
      ]
     },
     "execution_count": 15,
     "metadata": {},
     "output_type": "execute_result"
    }
   ],
   "source": [
    "texts1 = pd.read_csv('book_texts/book_data_1', encoding = 'utf8', index_col = 'Unnamed: 0')\n",
    "texts1.shape"
   ]
  },
  {
   "cell_type": "code",
   "execution_count": 16,
   "metadata": {
    "collapsed": false
   },
   "outputs": [
    {
     "data": {
      "text/html": [
       "<div>\n",
       "<table border=\"1\" class=\"dataframe\">\n",
       "  <thead>\n",
       "    <tr style=\"text-align: right;\">\n",
       "      <th></th>\n",
       "      <th>id</th>\n",
       "      <th>text</th>\n",
       "    </tr>\n",
       "  </thead>\n",
       "  <tbody>\n",
       "    <tr>\n",
       "      <th>0</th>\n",
       "      <td>15</td>\n",
       "      <td>[Note: This is one of Project Gutenberg's earl...</td>\n",
       "    </tr>\n",
       "    <tr>\n",
       "      <th>1</th>\n",
       "      <td>16</td>\n",
       "      <td>PETER PAN\\n\\n[PETER AND WENDY]\\n\\nBy J. M. Bar...</td>\n",
       "    </tr>\n",
       "    <tr>\n",
       "      <th>2</th>\n",
       "      <td>24</td>\n",
       "      <td>O PIONEERS!\\n\\nby Willa Cather\\n\\n\\n\\n\\nPART I...</td>\n",
       "    </tr>\n",
       "    <tr>\n",
       "      <th>3</th>\n",
       "      <td>27</td>\n",
       "      <td>NOTE:\\n\\nThis edition has NOT been prepared in...</td>\n",
       "    </tr>\n",
       "    <tr>\n",
       "      <th>4</th>\n",
       "      <td>32</td>\n",
       "      <td>HERLAND\\n\\nby Charlotte Perkins Stetson Gilman...</td>\n",
       "    </tr>\n",
       "  </tbody>\n",
       "</table>\n",
       "</div>"
      ],
      "text/plain": [
       "   id                                               text\n",
       "0  15  [Note: This is one of Project Gutenberg's earl...\n",
       "1  16  PETER PAN\\n\\n[PETER AND WENDY]\\n\\nBy J. M. Bar...\n",
       "2  24  O PIONEERS!\\n\\nby Willa Cather\\n\\n\\n\\n\\nPART I...\n",
       "3  27  NOTE:\\n\\nThis edition has NOT been prepared in...\n",
       "4  32  HERLAND\\n\\nby Charlotte Perkins Stetson Gilman..."
      ]
     },
     "execution_count": 16,
     "metadata": {},
     "output_type": "execute_result"
    }
   ],
   "source": [
    "texts1.head()"
   ]
  },
  {
   "cell_type": "code",
   "execution_count": 13,
   "metadata": {
    "collapsed": false
   },
   "outputs": [
    {
     "data": {
      "text/plain": [
       "(699, 15)"
      ]
     },
     "execution_count": 13,
     "metadata": {},
     "output_type": "execute_result"
    }
   ],
   "source": [
    "lit_fiction_1 = pd.merge(lit_fiction, texts1, on = 'id')\n",
    "lit_fiction_1.shape"
   ]
  },
  {
   "cell_type": "code",
   "execution_count": 12,
   "metadata": {
    "collapsed": false
   },
   "outputs": [
    {
     "data": {
      "text/html": [
       "<div>\n",
       "<table border=\"1\" class=\"dataframe\">\n",
       "  <thead>\n",
       "    <tr style=\"text-align: right;\">\n",
       "      <th></th>\n",
       "      <th>id</th>\n",
       "      <th>title</th>\n",
       "      <th>author</th>\n",
       "      <th>LCC</th>\n",
       "      <th>downloads</th>\n",
       "      <th>subjects</th>\n",
       "      <th>subjects2</th>\n",
       "      <th>formats</th>\n",
       "      <th>authoryearofbirth</th>\n",
       "      <th>authoryearofdeath</th>\n",
       "      <th>type</th>\n",
       "      <th>language</th>\n",
       "      <th>literature</th>\n",
       "      <th>fiction</th>\n",
       "      <th>text</th>\n",
       "    </tr>\n",
       "  </thead>\n",
       "  <tbody>\n",
       "    <tr>\n",
       "      <th>0</th>\n",
       "      <td>15</td>\n",
       "      <td>Moby Dick</td>\n",
       "      <td>Melville, Herman</td>\n",
       "      <td>{PS}</td>\n",
       "      <td>707</td>\n",
       "      <td>{Ship captains -- Fiction, Whaling ships -- Fi...</td>\n",
       "      <td>[Adventure stories, Ahab, Captain (Fictitious ...</td>\n",
       "      <td>{u'text/html': u'http://www.gutenberg.org/eboo...</td>\n",
       "      <td>1819.0</td>\n",
       "      <td>1891.0</td>\n",
       "      <td>Text</td>\n",
       "      <td>[en]</td>\n",
       "      <td>0</td>\n",
       "      <td>1</td>\n",
       "      <td>[Note: This is one of Project Gutenberg's earl...</td>\n",
       "    </tr>\n",
       "    <tr>\n",
       "      <th>1</th>\n",
       "      <td>16</td>\n",
       "      <td>Peter Pan</td>\n",
       "      <td>Barrie, J. M. (James Matthew)</td>\n",
       "      <td>{PZ, PR}</td>\n",
       "      <td>4778</td>\n",
       "      <td>{Peter Pan (Fictitious character) -- Fiction, ...</td>\n",
       "      <td>[Fairies, Fantasy, Fiction, Juvenile fiction, ...</td>\n",
       "      <td>{u'text/plain; charset=utf-8': u'http://www.gu...</td>\n",
       "      <td>1860.0</td>\n",
       "      <td>1937.0</td>\n",
       "      <td>Text</td>\n",
       "      <td>[en]</td>\n",
       "      <td>0</td>\n",
       "      <td>1</td>\n",
       "      <td>PETER PAN\\n\\n[PETER AND WENDY]\\n\\nBy J. M. Bar...</td>\n",
       "    </tr>\n",
       "  </tbody>\n",
       "</table>\n",
       "</div>"
      ],
      "text/plain": [
       "   id      title                         author       LCC  downloads  \\\n",
       "0  15  Moby Dick               Melville, Herman      {PS}        707   \n",
       "1  16  Peter Pan  Barrie, J. M. (James Matthew)  {PZ, PR}       4778   \n",
       "\n",
       "                                            subjects  \\\n",
       "0  {Ship captains -- Fiction, Whaling ships -- Fi...   \n",
       "1  {Peter Pan (Fictitious character) -- Fiction, ...   \n",
       "\n",
       "                                           subjects2  \\\n",
       "0  [Adventure stories, Ahab, Captain (Fictitious ...   \n",
       "1  [Fairies, Fantasy, Fiction, Juvenile fiction, ...   \n",
       "\n",
       "                                             formats  authoryearofbirth  \\\n",
       "0  {u'text/html': u'http://www.gutenberg.org/eboo...             1819.0   \n",
       "1  {u'text/plain; charset=utf-8': u'http://www.gu...             1860.0   \n",
       "\n",
       "   authoryearofdeath  type language  literature  fiction  \\\n",
       "0             1891.0  Text     [en]           0        1   \n",
       "1             1937.0  Text     [en]           0        1   \n",
       "\n",
       "                                                text  \n",
       "0  [Note: This is one of Project Gutenberg's earl...  \n",
       "1  PETER PAN\\n\\n[PETER AND WENDY]\\n\\nBy J. M. Bar...  "
      ]
     },
     "execution_count": 12,
     "metadata": {},
     "output_type": "execute_result"
    }
   ],
   "source": [
    "lit_fiction_1.head(2)"
   ]
  },
  {
   "cell_type": "code",
   "execution_count": 17,
   "metadata": {
    "collapsed": false
   },
   "outputs": [
    {
     "data": {
      "text/plain": [
       "<699x5000 sparse matrix of type '<type 'numpy.float64'>'\n",
       "\twith 1827434 stored elements in Compressed Sparse Row format>"
      ]
     },
     "execution_count": 17,
     "metadata": {},
     "output_type": "execute_result"
    }
   ],
   "source": [
    "tvec = TfidfVectorizer(strip_accents='unicode',\n",
    "                        decode_error='replace',\n",
    "                        lowercase=True,\n",
    "                        stop_words='english',\n",
    "                        min_df = 0.1, \n",
    "                        max_df=0.90, \n",
    "                        max_features = 5000)\n",
    "X = tvec.fit_transform(texts1.text)\n",
    "X"
   ]
  },
  {
   "cell_type": "code",
   "execution_count": 24,
   "metadata": {
    "collapsed": false
   },
   "outputs": [
    {
     "data": {
      "image/png": "[encoded data removed]",
      "text/plain": [
       "<matplotlib.figure.Figure at 0x15e9f11d0>"
      ]
     },
     "metadata": {},
     "output_type": "display_data"
    }
   ],
   "source": [
    "def hist_counts(X_all):\n",
    "\n",
    "    count_df = pd.DataFrame(X_all.toarray())\n",
    "    hist_counts = pd.DataFrame(minmax_scale(count_df.max()))\n",
    "    fig, (ax1, ax2, ax3) = plt.subplots(1, 3, figsize = (12, 3))\n",
    "    hist_counts.plot(kind=\"hist\", bins=50, title=\"Histogram - All\", color = 'darkgoldenrod', ax = ax1)\n",
    "    hist_counts[hist_counts[0] > .1].plot(kind=\"hist\", bins=50, title=\"Histogram - Counts > .1\", color = 'darkred', ax = ax2) # There are a lot of really common tokens within 10% -- filter them out\n",
    "    hist_counts[hist_counts[0] < .01].plot(kind=\"hist\", title=\"Histogram - Counts < .01\", color = 'steelblue', ax = ax3) # look at the range of extreme commons that seem to exist below .01\n",
    "    \n",
    "hist_counts(X)"
   ]
  },
  {
   "cell_type": "code",
   "execution_count": null,
   "metadata": {
    "collapsed": true
   },
   "outputs": [],
   "source": []
  }
 ],
 "metadata": {
  "anaconda-cloud": {},
  "kernelspec": {
   "display_name": "Python [dsi]",
   "language": "python",
   "name": "Python [dsi]"
  },
  "language_info": {
   "codemirror_mode": {
    "name": "ipython",
    "version": 2
   },
   "file_extension": ".py",
   "mimetype": "text/x-python",
   "name": "python",
   "nbconvert_exporter": "python",
   "pygments_lexer": "ipython2",
   "version": "2.7.12"
  }
 },
 "nbformat": 4,
 "nbformat_minor": 0
}

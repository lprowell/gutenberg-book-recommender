{
 "cells": [
  {
   "cell_type": "code",
   "execution_count": 9,
   "metadata": {
    "collapsed": true
   },
   "outputs": [],
   "source": [
    "import pandas as pd\n",
    "import numpy as np\n",
    "import matplotlib.pyplot as plt\n",
    "import seaborn as sns\n",
    "\n",
    "from sklearn.metrics.pairwise import cosine_distances, cosine_similarity\n",
    "\n",
    "%matplotlib inline\n",
    "%config InlineBackend.feature_format = 'retina'"
   ]
  },
  {
   "cell_type": "markdown",
   "metadata": {},
   "source": [
    "### Loading in the DataFrame that I made which includes data about all the books. The text of the books has been removed now that I have data about the words, syllables, reading levels, and subjects extracted. I also make the subjects easier to parse through and load up the tfidf vectorized books dataframe and the count vectorized books dataframe."
   ]
  },
  {
   "cell_type": "code",
   "execution_count": 10,
   "metadata": {
    "collapsed": true
   },
   "outputs": [],
   "source": [
    "meta_stats = pd.read_csv('meta_stats_all_notext', encoding = 'utf8', index_col = 'Unnamed: 0')"
   ]
  },
  {
   "cell_type": "code",
   "execution_count": 11,
   "metadata": {
    "collapsed": false
   },
   "outputs": [],
   "source": [
    "meta_stats['subjects2'] = meta_stats['subjects2'].map(lambda x: x.replace('[', '').replace(']','').split(','))\n",
    "\n",
    "def clean_sub2(sublist):\n",
    "    subs = []\n",
    "    for s in sublist:\n",
    "        subs.append(s.strip())\n",
    "    return subs\n",
    "\n",
    "meta_stats['subjects2'] = meta_stats['subjects2'].map(clean_sub2)"
   ]
  },
  {
   "cell_type": "code",
   "execution_count": 12,
   "metadata": {
    "collapsed": false
   },
   "outputs": [],
   "source": [
    "def unique_words(subjects):\n",
    "    s = []\n",
    "    for x in subjects:\n",
    "        s.extend(x.split(' '))\n",
    "    return np.unique(s)\n",
    "\n",
    "meta_stats['subjects3'] = meta_stats['subjects2'].map(unique_words)"
   ]
  },
  {
   "cell_type": "code",
   "execution_count": 13,
   "metadata": {
    "collapsed": false
   },
   "outputs": [],
   "source": [
    "tvec_all = pd.read_csv('tvec_all', encoding = 'utf8', index_col = 'Unnamed: 0')"
   ]
  },
  {
   "cell_type": "code",
   "execution_count": 14,
   "metadata": {
    "collapsed": false
   },
   "outputs": [],
   "source": [
    "cvec_all = pd.read_csv('cvec_all', encoding = 'utf8', index_col = 'Unnamed: 0')"
   ]
  },
  {
   "cell_type": "code",
   "execution_count": 15,
   "metadata": {
    "collapsed": false
   },
   "outputs": [],
   "source": [
    "def jaccard(list1, list2):\n",
    "    \n",
    "    a = set(list1)\n",
    "    b = set(list2)\n",
    "\n",
    "    return round(len(a.intersection(b)) / float(len(a.union(b))), 5)"
   ]
  },
  {
   "cell_type": "markdown",
   "metadata": {},
   "source": [
    "### The user selects a book and the dataframe is narrowed down to only include the books within a range of appropriate reading levels of that book."
   ]
  },
  {
   "cell_type": "code",
   "execution_count": 25,
   "metadata": {
    "collapsed": false
   },
   "outputs": [],
   "source": [
    "def recommend_books(title):\n",
    "    \n",
    "    try:\n",
    "        chosen_title = title\n",
    "        chosen_book = meta_stats[meta_stats['title'] == chosen_title]\n",
    "        chosen_id = chosen_book['book_id'].values[0]\n",
    "        print ('Looking up books that are like %s' % title)\n",
    "    except:\n",
    "        print ('This book is not in the dataset. Try another book!')\n",
    "        return None\n",
    "    \n",
    "    #Determining reading level of the recommended books\n",
    "    \n",
    "    flesch_k_max = chosen_book['flesch_kincaid_grade'].values[0] + 0.25\n",
    "    flesch_k_min = chosen_book['flesch_kincaid_grade'].values[0] - 1.00\n",
    "    print ('%s has a reading level of %s' % (title, str(round(chosen_book['flesch_kincaid_grade'], 2))))\n",
    "    print (\"The reading level of your recommended books will be between \" + str(round(flesch_k_min, 2)) + \" and \" + str(round(flesch_k_max, 2)))\n",
    "    \n",
    "    flesch_k_subset = meta_stats[meta_stats['flesch_kincaid_grade'].between(flesch_k_min, flesch_k_max)].reset_index(drop = True)\n",
    "    print (\"There are \" + str(flesch_k_subset.shape[0]) + \" books that are within your reading level range.\")\n",
    "        \n",
    "    subset_bids = flesch_k_subset[['book_id']]\n",
    "    \n",
    "    #Creating a column to recommend books based upon TFIDF\n",
    "    tvec_subset = subset_bids.merge(tvec_all, how = 'inner', on = 'book_id').reset_index(drop = True)\n",
    "    book_ids = tvec_subset.book_id\n",
    "    tvec_subset = tvec_subset.drop('book_id', axis = 1)\n",
    "\n",
    "    t_subset_distances = cosine_distances(tvec_subset)\n",
    "    t_subset_distances_df = pd.DataFrame(t_subset_distances, columns=book_ids)\n",
    "    t_subset_distances_df['book_id'] = book_ids\n",
    "\n",
    "    t_chosen_distances = t_subset_distances_df[[chosen_id, 'book_id']]\n",
    "    flesch_k_subset = flesch_k_subset.merge(t_chosen_distances, how = 'inner', on = 'book_id')\n",
    "    flesch_k_subset.rename(columns = {chosen_id : 'tfidf_distances'}, inplace = True)\n",
    "    \n",
    "    #Creating a column to recommend books based upon count vectorizer\n",
    "    cvec_subset = subset_bids.merge(cvec_all, how = 'inner', on = 'book_id').reset_index(drop = True)\n",
    "    book_ids = cvec_subset.book_id\n",
    "    \n",
    "    cvec_subset = cvec_subset.drop('book_id', axis = 1)\n",
    "\n",
    "    c_subset_distances = cosine_distances(cvec_subset)\n",
    "    c_subset_distances_df = pd.DataFrame(c_subset_distances, columns=book_ids)\n",
    "    c_subset_distances_df['book_id'] = book_ids\n",
    "\n",
    "    c_chosen_distances = c_subset_distances_df[[chosen_id, 'book_id']]\n",
    "    flesch_k_subset = flesch_k_subset.merge(c_chosen_distances, how = 'inner', on = 'book_id')\n",
    "    flesch_k_subset.rename(columns = {chosen_id : 'cvec_distances'}, inplace = True)\n",
    "    \n",
    "    #Creating a column to recommend books based upon subject similarity\n",
    "    \n",
    "    subject_jaccards = []\n",
    "\n",
    "    for book in range(flesch_k_subset.shape[0]):\n",
    "        subject_jaccards.append(jaccard(flesch_k_subset.ix[book,'subjects3'].tolist(), \n",
    "                                                chosen_book['subjects3'].values[0].tolist()))\n",
    "    \n",
    "    flesch_k_subset['subject_jaccard'] = subject_jaccards\n",
    "\n",
    "    mask_title = flesch_k_subset['title'] != chosen_title\n",
    "    s_recs = flesch_k_subset[mask_title].sort_values('subject_jaccard', ascending = False).head(10).title.values + ' by ' + flesch_k_subset[mask_title].sort_values('subject_jaccard', ascending = False).head(10).author.values \n",
    "    t_recs = flesch_k_subset[mask_title].sort_values('tfidf_distances').head(10).title.values + ' by ' + flesch_k_subset[mask_title].sort_values('tfidf_distances').head(10).author.values \n",
    "    c_recs = flesch_k_subset[mask_title].sort_values('cvec_distances').head(10).title.values + ' by ' + flesch_k_subset[mask_title].sort_values('cvec_distances').head(10).author.values \n",
    "\n",
    "    recommended_books = pd.DataFrame({\n",
    "        'Subject Based Recommendation' : s_recs,\n",
    "        'tf-idf Based Recommendation' : t_recs,\n",
    "        'Count Vectorizer Based Recommendation' : c_recs\n",
    "    })\n",
    "\n",
    "    \n",
    "    return recommended_books"
   ]
  },
  {
   "cell_type": "code",
   "execution_count": 28,
   "metadata": {
    "collapsed": false,
    "scrolled": true
   },
   "outputs": [
    {
     "name": "stdout",
     "output_type": "stream",
     "text": [
      "Looking up books that are like Metamorphosis\n",
      "Metamorphosis has a reading level of 12.26\n",
      "The reading level of your recommended books will be between 11.26 and 12.51\n",
      "There are 1162 books that are within your reading level range.\n"
     ]
    },
    {
     "data": {
      "text/html": [
       "<div>\n",
       "<table border=\"1\" class=\"dataframe\">\n",
       "  <thead>\n",
       "    <tr style=\"text-align: right;\">\n",
       "      <th></th>\n",
       "      <th>Count Vectorizer Based Recommendation</th>\n",
       "      <th>Subject Based Recommendation</th>\n",
       "      <th>tf-idf Based Recommendation</th>\n",
       "    </tr>\n",
       "  </thead>\n",
       "  <tbody>\n",
       "    <tr>\n",
       "      <th>0</th>\n",
       "      <td>Nightmare Tales by Blavatsky, H. P. (Helena Pe...</td>\n",
       "      <td>The Private Memoirs and Confessions of a Justi...</td>\n",
       "      <td>Lippincott's Magazine of Popular Literature an...</td>\n",
       "    </tr>\n",
       "    <tr>\n",
       "      <th>1</th>\n",
       "      <td>Old Gorgon Graham: More Letters from a Self-Ma...</td>\n",
       "      <td>Maggie Miller: The Story of Old Hagar's Secret...</td>\n",
       "      <td>Lippincott's Magazine of Popular Literature an...</td>\n",
       "    </tr>\n",
       "    <tr>\n",
       "      <th>2</th>\n",
       "      <td>A Girl Among the Anarchists by Meredith, Isabel</td>\n",
       "      <td>The House on the Moor, v. 2/3 by Oliphant, Mrs...</td>\n",
       "      <td>Chantry House by Yonge, Charlotte M. (Charlott...</td>\n",
       "    </tr>\n",
       "    <tr>\n",
       "      <th>3</th>\n",
       "      <td>A Picture-book of Merry Tales by Anonymous</td>\n",
       "      <td>Mabel: A Novel. Vol. 2 (of 3) by Newby, C. J.,...</td>\n",
       "      <td>At the Mercy of Tiberius by Evans, Augusta J. ...</td>\n",
       "    </tr>\n",
       "    <tr>\n",
       "      <th>4</th>\n",
       "      <td>The Altar Fire by Benson, Arthur Christopher</td>\n",
       "      <td>Falkland, Complete by Lytton, Edward Bulwer Ly...</td>\n",
       "      <td>The Bed-Book of Happiness: Being a colligation...</td>\n",
       "    </tr>\n",
       "    <tr>\n",
       "      <th>5</th>\n",
       "      <td>Spiritual Adventures by Symons, Arthur</td>\n",
       "      <td>Falkland, Book 4. by Lytton, Edward Bulwer Lyt...</td>\n",
       "      <td>The Historical Romances of Georg Ebers by Eber...</td>\n",
       "    </tr>\n",
       "    <tr>\n",
       "      <th>6</th>\n",
       "      <td>Mark Rutherford's Deliverance by White, Willia...</td>\n",
       "      <td>Albrecht by Bates, Arlo</td>\n",
       "      <td>The Tenant of Wildfell Hall by Brontë, Anne</td>\n",
       "    </tr>\n",
       "    <tr>\n",
       "      <th>7</th>\n",
       "      <td>The Complete Short Works of Georg Ebers by Ebe...</td>\n",
       "      <td>Poems and Tales from Romania by Sumanaru, Simona</td>\n",
       "      <td>Lippincott's Magazine of Popular Literature an...</td>\n",
       "    </tr>\n",
       "    <tr>\n",
       "      <th>8</th>\n",
       "      <td>The Serapion Brethren, Vol. II by Hoffmann, E....</td>\n",
       "      <td>A Woman's Love by Opie, Amelia</td>\n",
       "      <td>The Complete Short Works of Georg Ebers by Ebe...</td>\n",
       "    </tr>\n",
       "    <tr>\n",
       "      <th>9</th>\n",
       "      <td>The Bed-Book of Happiness: Being a colligation...</td>\n",
       "      <td>The Bride of Dreams by Eeden, Frederik van</td>\n",
       "      <td>How to Fail in Literature: A Lecture by Lang, ...</td>\n",
       "    </tr>\n",
       "  </tbody>\n",
       "</table>\n",
       "</div>"
      ],
      "text/plain": [
       "               Count Vectorizer Based Recommendation  \\\n",
       "0  Nightmare Tales by Blavatsky, H. P. (Helena Pe...   \n",
       "1  Old Gorgon Graham: More Letters from a Self-Ma...   \n",
       "2    A Girl Among the Anarchists by Meredith, Isabel   \n",
       "3         A Picture-book of Merry Tales by Anonymous   \n",
       "4       The Altar Fire by Benson, Arthur Christopher   \n",
       "5             Spiritual Adventures by Symons, Arthur   \n",
       "6  Mark Rutherford's Deliverance by White, Willia...   \n",
       "7  The Complete Short Works of Georg Ebers by Ebe...   \n",
       "8  The Serapion Brethren, Vol. II by Hoffmann, E....   \n",
       "9  The Bed-Book of Happiness: Being a colligation...   \n",
       "\n",
       "                        Subject Based Recommendation  \\\n",
       "0  The Private Memoirs and Confessions of a Justi...   \n",
       "1  Maggie Miller: The Story of Old Hagar's Secret...   \n",
       "2  The House on the Moor, v. 2/3 by Oliphant, Mrs...   \n",
       "3  Mabel: A Novel. Vol. 2 (of 3) by Newby, C. J.,...   \n",
       "4  Falkland, Complete by Lytton, Edward Bulwer Ly...   \n",
       "5  Falkland, Book 4. by Lytton, Edward Bulwer Lyt...   \n",
       "6                            Albrecht by Bates, Arlo   \n",
       "7   Poems and Tales from Romania by Sumanaru, Simona   \n",
       "8                     A Woman's Love by Opie, Amelia   \n",
       "9         The Bride of Dreams by Eeden, Frederik van   \n",
       "\n",
       "                         tf-idf Based Recommendation  \n",
       "0  Lippincott's Magazine of Popular Literature an...  \n",
       "1  Lippincott's Magazine of Popular Literature an...  \n",
       "2  Chantry House by Yonge, Charlotte M. (Charlott...  \n",
       "3  At the Mercy of Tiberius by Evans, Augusta J. ...  \n",
       "4  The Bed-Book of Happiness: Being a colligation...  \n",
       "5  The Historical Romances of Georg Ebers by Eber...  \n",
       "6        The Tenant of Wildfell Hall by Brontë, Anne  \n",
       "7  Lippincott's Magazine of Popular Literature an...  \n",
       "8  The Complete Short Works of Georg Ebers by Ebe...  \n",
       "9  How to Fail in Literature: A Lecture by Lang, ...  "
      ]
     },
     "execution_count": 28,
     "metadata": {},
     "output_type": "execute_result"
    }
   ],
   "source": [
    "recommend_books(\"Metamorphosis\")"
   ]
  },
  {
   "cell_type": "code",
   "execution_count": null,
   "metadata": {
    "collapsed": true
   },
   "outputs": [],
   "source": []
  }
 ],
 "metadata": {
  "anaconda-cloud": {},
  "kernelspec": {
   "display_name": "Python [dsi]",
   "language": "python",
   "name": "Python [dsi]"
  },
  "language_info": {
   "codemirror_mode": {
    "name": "ipython",
    "version": 2
   },
   "file_extension": ".py",
   "mimetype": "text/x-python",
   "name": "python",
   "nbconvert_exporter": "python",
   "pygments_lexer": "ipython2",
   "version": "2.7.12"
  }
 },
 "nbformat": 4,
 "nbformat_minor": 0
}

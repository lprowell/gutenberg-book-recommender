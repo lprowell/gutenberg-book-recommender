{
 "cells": [
  {
   "cell_type": "code",
   "execution_count": 1,
   "metadata": {
    "collapsed": false
   },
   "outputs": [
    {
     "name": "stderr",
     "output_type": "stream",
     "text": [
      "INFO:rdflib:RDFLib Version: 4.2.1\n"
     ]
    }
   ],
   "source": [
    "import pandas as pd\n",
    "import numpy as np\n",
    "import matplotlib.pyplot as plt\n",
    "import seaborn as sns\n",
    "\n",
    "from gutenberg.acquire import load_etext\n",
    "from gutenberg.cleanup import strip_headers\n",
    "\n",
    "%matplotlib inline\n",
    "%config InlineBackend.feature_format = 'retina'"
   ]
  },
  {
   "cell_type": "code",
   "execution_count": 7,
   "metadata": {
    "collapsed": true
   },
   "outputs": [],
   "source": [
    "# meta_stats['childrens_subjects'] = meta_stats['subjects2'].map(lambda x: 1 if 'childrens literature' in str(x) \n",
    "#                                or 'childrens periodicals' in str(x) \n",
    "#                                or 'childrens plays' in str(x) \n",
    "#                                or 'childrens poetry' in str(x)\n",
    "#                                or 'childrens songs' in str(x)\n",
    "#                                or 'childrens stories' in str(x)\n",
    "#                                or 'christian literature for children' in str(x)\n",
    "#                                or 'juvenile and popular literature' in str(x)\n",
    "#                                or 'juvenile drama' in str(x)\n",
    "#                                or 'juvenile fction' in str(x)\n",
    "#                                or 'juvenile fiction' in str(x)\n",
    "#                                or 'juvenile literature' in str(x)\n",
    "#                                or 'juvenile poetry' in str(x)\n",
    "#                                else 0)"
   ]
  },
  {
   "cell_type": "code",
   "execution_count": 32,
   "metadata": {
    "collapsed": true
   },
   "outputs": [],
   "source": [
    "meta_stats = pd.read_csv('meta_stats_all_notext', encoding = 'utf8', index_col = 'Unnamed: 0')"
   ]
  },
  {
   "cell_type": "code",
   "execution_count": 33,
   "metadata": {
    "collapsed": false
   },
   "outputs": [
    {
     "data": {
      "text/plain": [
       "Index([u'book_id', u'title', u'title_ascii', u'author', u'authoryearofbirth',\n",
       "       u'authoryearofdeath', u'downloads', u'subjects', u'subjects2', u'LCC',\n",
       "       u'PZ', u'lit_LCC', u'childrens_subjects', u'fiction', u'literature',\n",
       "       u'character_count', u'word_count', u'sentence_count', u'syllable_count',\n",
       "       u'avg_sentence_length', u'avg_syllables_per_word', u'dialogue',\n",
       "       u'dialogue_per_sentence', u'flesch_reading_ease',\n",
       "       u'flesch_kincaid_grade', u'formats'],\n",
       "      dtype='object')"
      ]
     },
     "execution_count": 33,
     "metadata": {},
     "output_type": "execute_result"
    }
   ],
   "source": [
    "meta_stats.columns"
   ]
  },
  {
   "cell_type": "code",
   "execution_count": 34,
   "metadata": {
    "collapsed": false
   },
   "outputs": [],
   "source": [
    "meta_stats['subjects2'] = meta_stats['subjects2'].map(lambda s: s.replace('[', '').replace(']', '').lower().split(','))"
   ]
  },
  {
   "cell_type": "code",
   "execution_count": 36,
   "metadata": {
    "collapsed": false
   },
   "outputs": [],
   "source": [
    "def stripsubs(slist):\n",
    "    return [s.strip() for s in slist]\n",
    "        \n",
    "meta_stats['subjects2'] = meta_stats['subjects2'].map(stripsubs)"
   ]
  },
  {
   "cell_type": "code",
   "execution_count": 37,
   "metadata": {
    "collapsed": false
   },
   "outputs": [
    {
     "data": {
      "text/plain": [
       "0    11813\n",
       "1     4072\n",
       "Name: childrens_subjects, dtype: int64"
      ]
     },
     "execution_count": 37,
     "metadata": {},
     "output_type": "execute_result"
    }
   ],
   "source": [
    "meta_stats.childrens_subjects.value_counts()"
   ]
  },
  {
   "cell_type": "code",
   "execution_count": 38,
   "metadata": {
    "collapsed": true
   },
   "outputs": [],
   "source": [
    "meta_stats['ch_s2'] = meta_stats['subjects2'].map(lambda x: 1 if 'children' in str(x) or \n",
    "                                                 'juvenile' in str(x) else 0)"
   ]
  },
  {
   "cell_type": "code",
   "execution_count": 44,
   "metadata": {
    "collapsed": false
   },
   "outputs": [
    {
     "name": "stdout",
     "output_type": "stream",
     "text": [
      "[u'adventure stories', u'bildungsromans', u'boys', u'child witnesses', u'fiction', u'humorous stories', u'male friendship', u'mississippi river valley', u'missouri', u'runaway children', u'sawyer', u'tom fictitious character']\n"
     ]
    }
   ],
   "source": [
    "for s in meta_stats[meta_stats['title'] == 'The Adventures of Tom Sawyer']['subjects2'].values:\n",
    "    print s"
   ]
  },
  {
   "cell_type": "code",
   "execution_count": 16,
   "metadata": {
    "collapsed": false
   },
   "outputs": [
    {
     "data": {
      "text/html": [
       "<div>\n",
       "<table border=\"1\" class=\"dataframe\">\n",
       "  <thead>\n",
       "    <tr style=\"text-align: right;\">\n",
       "      <th></th>\n",
       "      <th>title</th>\n",
       "      <th>childrens_subjects</th>\n",
       "      <th>ch_s2</th>\n",
       "    </tr>\n",
       "  </thead>\n",
       "  <tbody>\n",
       "    <tr>\n",
       "      <th>0</th>\n",
       "      <td>Moby Dick</td>\n",
       "      <td>0</td>\n",
       "      <td>0</td>\n",
       "    </tr>\n",
       "    <tr>\n",
       "      <th>1</th>\n",
       "      <td>Peter Pan</td>\n",
       "      <td>1</td>\n",
       "      <td>1</td>\n",
       "    </tr>\n",
       "    <tr>\n",
       "      <th>2</th>\n",
       "      <td>O Pioneers!</td>\n",
       "      <td>0</td>\n",
       "      <td>0</td>\n",
       "    </tr>\n",
       "    <tr>\n",
       "      <th>3</th>\n",
       "      <td>Far from the Madding Crowd</td>\n",
       "      <td>0</td>\n",
       "      <td>0</td>\n",
       "    </tr>\n",
       "    <tr>\n",
       "      <th>4</th>\n",
       "      <td>Herland</td>\n",
       "      <td>0</td>\n",
       "      <td>0</td>\n",
       "    </tr>\n",
       "    <tr>\n",
       "      <th>5</th>\n",
       "      <td>The Scarlet Letter</td>\n",
       "      <td>0</td>\n",
       "      <td>1</td>\n",
       "    </tr>\n",
       "    <tr>\n",
       "      <th>6</th>\n",
       "      <td>The Time Machine</td>\n",
       "      <td>0</td>\n",
       "      <td>0</td>\n",
       "    </tr>\n",
       "    <tr>\n",
       "      <th>7</th>\n",
       "      <td>The War of the Worlds</td>\n",
       "      <td>0</td>\n",
       "      <td>0</td>\n",
       "    </tr>\n",
       "    <tr>\n",
       "      <th>8</th>\n",
       "      <td>The Legend of Sleepy Hollow</td>\n",
       "      <td>0</td>\n",
       "      <td>0</td>\n",
       "    </tr>\n",
       "    <tr>\n",
       "      <th>9</th>\n",
       "      <td>The Strange Case of Dr. Jekyll and Mr. Hyde</td>\n",
       "      <td>0</td>\n",
       "      <td>0</td>\n",
       "    </tr>\n",
       "    <tr>\n",
       "      <th>10</th>\n",
       "      <td>The Song of the Lark</td>\n",
       "      <td>0</td>\n",
       "      <td>1</td>\n",
       "    </tr>\n",
       "    <tr>\n",
       "      <th>11</th>\n",
       "      <td>Anne of Green Gables</td>\n",
       "      <td>0</td>\n",
       "      <td>0</td>\n",
       "    </tr>\n",
       "    <tr>\n",
       "      <th>12</th>\n",
       "      <td>A Christmas Carol in Prose; Being a Ghost Stor...</td>\n",
       "      <td>0</td>\n",
       "      <td>1</td>\n",
       "    </tr>\n",
       "    <tr>\n",
       "      <th>13</th>\n",
       "      <td>Anne of Avonlea</td>\n",
       "      <td>0</td>\n",
       "      <td>0</td>\n",
       "    </tr>\n",
       "    <tr>\n",
       "      <th>14</th>\n",
       "      <td>Anne of the Island</td>\n",
       "      <td>0</td>\n",
       "      <td>0</td>\n",
       "    </tr>\n",
       "    <tr>\n",
       "      <th>15</th>\n",
       "      <td>The Marvelous Land of Oz</td>\n",
       "      <td>1</td>\n",
       "      <td>1</td>\n",
       "    </tr>\n",
       "    <tr>\n",
       "      <th>16</th>\n",
       "      <td>The Wonderful Wizard of Oz</td>\n",
       "      <td>1</td>\n",
       "      <td>1</td>\n",
       "    </tr>\n",
       "    <tr>\n",
       "      <th>17</th>\n",
       "      <td>The Scarlet Pimpernel</td>\n",
       "      <td>0</td>\n",
       "      <td>0</td>\n",
       "    </tr>\n",
       "    <tr>\n",
       "      <th>18</th>\n",
       "      <td>A Princess of Mars</td>\n",
       "      <td>0</td>\n",
       "      <td>0</td>\n",
       "    </tr>\n",
       "    <tr>\n",
       "      <th>19</th>\n",
       "      <td>The Gods of Mars</td>\n",
       "      <td>0</td>\n",
       "      <td>0</td>\n",
       "    </tr>\n",
       "    <tr>\n",
       "      <th>20</th>\n",
       "      <td>Warlord of Mars</td>\n",
       "      <td>0</td>\n",
       "      <td>0</td>\n",
       "    </tr>\n",
       "    <tr>\n",
       "      <th>21</th>\n",
       "      <td>Thuvia, Maid of Mars</td>\n",
       "      <td>0</td>\n",
       "      <td>0</td>\n",
       "    </tr>\n",
       "    <tr>\n",
       "      <th>22</th>\n",
       "      <td>The Red Badge of Courage: An Episode of the Am...</td>\n",
       "      <td>0</td>\n",
       "      <td>0</td>\n",
       "    </tr>\n",
       "    <tr>\n",
       "      <th>23</th>\n",
       "      <td>The Adventures of Tom Sawyer</td>\n",
       "      <td>0</td>\n",
       "      <td>1</td>\n",
       "    </tr>\n",
       "    <tr>\n",
       "      <th>24</th>\n",
       "      <td>Adventures of Huckleberry Finn</td>\n",
       "      <td>0</td>\n",
       "      <td>1</td>\n",
       "    </tr>\n",
       "    <tr>\n",
       "      <th>25</th>\n",
       "      <td>The House of the Seven Gables</td>\n",
       "      <td>0</td>\n",
       "      <td>0</td>\n",
       "    </tr>\n",
       "    <tr>\n",
       "      <th>26</th>\n",
       "      <td>Tarzan of the Apes</td>\n",
       "      <td>0</td>\n",
       "      <td>0</td>\n",
       "    </tr>\n",
       "    <tr>\n",
       "      <th>27</th>\n",
       "      <td>Terminal Compromise</td>\n",
       "      <td>0</td>\n",
       "      <td>0</td>\n",
       "    </tr>\n",
       "    <tr>\n",
       "      <th>28</th>\n",
       "      <td>The Return of Tarzan</td>\n",
       "      <td>0</td>\n",
       "      <td>0</td>\n",
       "    </tr>\n",
       "    <tr>\n",
       "      <th>29</th>\n",
       "      <td>Ivanhoe: A Romance</td>\n",
       "      <td>0</td>\n",
       "      <td>0</td>\n",
       "    </tr>\n",
       "    <tr>\n",
       "      <th>...</th>\n",
       "      <td>...</td>\n",
       "      <td>...</td>\n",
       "      <td>...</td>\n",
       "    </tr>\n",
       "    <tr>\n",
       "      <th>15855</th>\n",
       "      <td>The Royal End: A Romance</td>\n",
       "      <td>0</td>\n",
       "      <td>0</td>\n",
       "    </tr>\n",
       "    <tr>\n",
       "      <th>15856</th>\n",
       "      <td>Two Women or One? From the Mss. of Dr. Leonard...</td>\n",
       "      <td>0</td>\n",
       "      <td>0</td>\n",
       "    </tr>\n",
       "    <tr>\n",
       "      <th>15857</th>\n",
       "      <td>The Woman in the Alcove</td>\n",
       "      <td>0</td>\n",
       "      <td>0</td>\n",
       "    </tr>\n",
       "    <tr>\n",
       "      <th>15858</th>\n",
       "      <td>Roland Whately: A Novel</td>\n",
       "      <td>0</td>\n",
       "      <td>0</td>\n",
       "    </tr>\n",
       "    <tr>\n",
       "      <th>15859</th>\n",
       "      <td>The Motor Boys on a Ranch; or, Ned, Bob and Je...</td>\n",
       "      <td>1</td>\n",
       "      <td>1</td>\n",
       "    </tr>\n",
       "    <tr>\n",
       "      <th>15860</th>\n",
       "      <td>Cease firing</td>\n",
       "      <td>0</td>\n",
       "      <td>0</td>\n",
       "    </tr>\n",
       "    <tr>\n",
       "      <th>15861</th>\n",
       "      <td>Bessie on Her Travels</td>\n",
       "      <td>1</td>\n",
       "      <td>1</td>\n",
       "    </tr>\n",
       "    <tr>\n",
       "      <th>15862</th>\n",
       "      <td>Blue-Stocking Hall, (Vol. 2 of 3)</td>\n",
       "      <td>0</td>\n",
       "      <td>0</td>\n",
       "    </tr>\n",
       "    <tr>\n",
       "      <th>15863</th>\n",
       "      <td>Famous Men of Ancient Times</td>\n",
       "      <td>1</td>\n",
       "      <td>1</td>\n",
       "    </tr>\n",
       "    <tr>\n",
       "      <th>15864</th>\n",
       "      <td>Cupid of Campion</td>\n",
       "      <td>1</td>\n",
       "      <td>1</td>\n",
       "    </tr>\n",
       "    <tr>\n",
       "      <th>15865</th>\n",
       "      <td>The Dreadnought Boys on Aero Service</td>\n",
       "      <td>1</td>\n",
       "      <td>1</td>\n",
       "    </tr>\n",
       "    <tr>\n",
       "      <th>15866</th>\n",
       "      <td>Comedies and Errors</td>\n",
       "      <td>0</td>\n",
       "      <td>0</td>\n",
       "    </tr>\n",
       "    <tr>\n",
       "      <th>15867</th>\n",
       "      <td>Mrs Peixada</td>\n",
       "      <td>0</td>\n",
       "      <td>0</td>\n",
       "    </tr>\n",
       "    <tr>\n",
       "      <th>15868</th>\n",
       "      <td>Mademoiselle Miss, and Other Stories</td>\n",
       "      <td>0</td>\n",
       "      <td>0</td>\n",
       "    </tr>\n",
       "    <tr>\n",
       "      <th>15869</th>\n",
       "      <td>As It Was Written: A Jewish Musician's Story</td>\n",
       "      <td>0</td>\n",
       "      <td>0</td>\n",
       "    </tr>\n",
       "    <tr>\n",
       "      <th>15870</th>\n",
       "      <td>Midnight Jack, or The road-agent</td>\n",
       "      <td>0</td>\n",
       "      <td>0</td>\n",
       "    </tr>\n",
       "    <tr>\n",
       "      <th>15871</th>\n",
       "      <td>The Border Boys in the Canadian Rockies</td>\n",
       "      <td>1</td>\n",
       "      <td>1</td>\n",
       "    </tr>\n",
       "    <tr>\n",
       "      <th>15872</th>\n",
       "      <td>The Border Boys with the Mexican Rangers</td>\n",
       "      <td>1</td>\n",
       "      <td>1</td>\n",
       "    </tr>\n",
       "    <tr>\n",
       "      <th>15873</th>\n",
       "      <td>The Pansy Magazine, November 1887</td>\n",
       "      <td>0</td>\n",
       "      <td>0</td>\n",
       "    </tr>\n",
       "    <tr>\n",
       "      <th>15874</th>\n",
       "      <td>Patty's Motor Car</td>\n",
       "      <td>1</td>\n",
       "      <td>1</td>\n",
       "    </tr>\n",
       "    <tr>\n",
       "      <th>15875</th>\n",
       "      <td>The Witch</td>\n",
       "      <td>0</td>\n",
       "      <td>0</td>\n",
       "    </tr>\n",
       "    <tr>\n",
       "      <th>15876</th>\n",
       "      <td>Dick and Dolly</td>\n",
       "      <td>1</td>\n",
       "      <td>1</td>\n",
       "    </tr>\n",
       "    <tr>\n",
       "      <th>15877</th>\n",
       "      <td>The Camp Fire Girls by the Blue Lagoon</td>\n",
       "      <td>1</td>\n",
       "      <td>1</td>\n",
       "    </tr>\n",
       "    <tr>\n",
       "      <th>15878</th>\n",
       "      <td>The Motor Boys in the Army; or, Ned, Bob and J...</td>\n",
       "      <td>1</td>\n",
       "      <td>1</td>\n",
       "    </tr>\n",
       "    <tr>\n",
       "      <th>15879</th>\n",
       "      <td>Evenings at Home; Or, The Juvenile Budget Opened</td>\n",
       "      <td>1</td>\n",
       "      <td>1</td>\n",
       "    </tr>\n",
       "    <tr>\n",
       "      <th>15880</th>\n",
       "      <td>The Fortunes of Garin</td>\n",
       "      <td>0</td>\n",
       "      <td>0</td>\n",
       "    </tr>\n",
       "    <tr>\n",
       "      <th>15881</th>\n",
       "      <td>Free Trapper's Pass; or, the Gold-seeker's Dau...</td>\n",
       "      <td>0</td>\n",
       "      <td>0</td>\n",
       "    </tr>\n",
       "    <tr>\n",
       "      <th>15882</th>\n",
       "      <td>Rank and Talent; A Novel, Vol. 1 (of 3)</td>\n",
       "      <td>0</td>\n",
       "      <td>0</td>\n",
       "    </tr>\n",
       "    <tr>\n",
       "      <th>15883</th>\n",
       "      <td>The Touch of Abner</td>\n",
       "      <td>0</td>\n",
       "      <td>0</td>\n",
       "    </tr>\n",
       "    <tr>\n",
       "      <th>15884</th>\n",
       "      <td>The Motor Boys Bound for Home; or, Ned, Bob an...</td>\n",
       "      <td>1</td>\n",
       "      <td>1</td>\n",
       "    </tr>\n",
       "  </tbody>\n",
       "</table>\n",
       "<p>15885 rows × 3 columns</p>\n",
       "</div>"
      ],
      "text/plain": [
       "                                                   title  childrens_subjects  \\\n",
       "0                                              Moby Dick                   0   \n",
       "1                                              Peter Pan                   1   \n",
       "2                                            O Pioneers!                   0   \n",
       "3                             Far from the Madding Crowd                   0   \n",
       "4                                                Herland                   0   \n",
       "5                                     The Scarlet Letter                   0   \n",
       "6                                       The Time Machine                   0   \n",
       "7                                  The War of the Worlds                   0   \n",
       "8                            The Legend of Sleepy Hollow                   0   \n",
       "9            The Strange Case of Dr. Jekyll and Mr. Hyde                   0   \n",
       "10                                  The Song of the Lark                   0   \n",
       "11                                  Anne of Green Gables                   0   \n",
       "12     A Christmas Carol in Prose; Being a Ghost Stor...                   0   \n",
       "13                                       Anne of Avonlea                   0   \n",
       "14                                    Anne of the Island                   0   \n",
       "15                              The Marvelous Land of Oz                   1   \n",
       "16                            The Wonderful Wizard of Oz                   1   \n",
       "17                                 The Scarlet Pimpernel                   0   \n",
       "18                                    A Princess of Mars                   0   \n",
       "19                                      The Gods of Mars                   0   \n",
       "20                                       Warlord of Mars                   0   \n",
       "21                                  Thuvia, Maid of Mars                   0   \n",
       "22     The Red Badge of Courage: An Episode of the Am...                   0   \n",
       "23                          The Adventures of Tom Sawyer                   0   \n",
       "24                        Adventures of Huckleberry Finn                   0   \n",
       "25                         The House of the Seven Gables                   0   \n",
       "26                                    Tarzan of the Apes                   0   \n",
       "27                                   Terminal Compromise                   0   \n",
       "28                                  The Return of Tarzan                   0   \n",
       "29                                    Ivanhoe: A Romance                   0   \n",
       "...                                                  ...                 ...   \n",
       "15855                           The Royal End: A Romance                   0   \n",
       "15856  Two Women or One? From the Mss. of Dr. Leonard...                   0   \n",
       "15857                            The Woman in the Alcove                   0   \n",
       "15858                            Roland Whately: A Novel                   0   \n",
       "15859  The Motor Boys on a Ranch; or, Ned, Bob and Je...                   1   \n",
       "15860                                       Cease firing                   0   \n",
       "15861                              Bessie on Her Travels                   1   \n",
       "15862                  Blue-Stocking Hall, (Vol. 2 of 3)                   0   \n",
       "15863                        Famous Men of Ancient Times                   1   \n",
       "15864                                   Cupid of Campion                   1   \n",
       "15865               The Dreadnought Boys on Aero Service                   1   \n",
       "15866                                Comedies and Errors                   0   \n",
       "15867                                        Mrs Peixada                   0   \n",
       "15868               Mademoiselle Miss, and Other Stories                   0   \n",
       "15869       As It Was Written: A Jewish Musician's Story                   0   \n",
       "15870                   Midnight Jack, or The road-agent                   0   \n",
       "15871            The Border Boys in the Canadian Rockies                   1   \n",
       "15872           The Border Boys with the Mexican Rangers                   1   \n",
       "15873                  The Pansy Magazine, November 1887                   0   \n",
       "15874                                  Patty's Motor Car                   1   \n",
       "15875                                          The Witch                   0   \n",
       "15876                                     Dick and Dolly                   1   \n",
       "15877             The Camp Fire Girls by the Blue Lagoon                   1   \n",
       "15878  The Motor Boys in the Army; or, Ned, Bob and J...                   1   \n",
       "15879   Evenings at Home; Or, The Juvenile Budget Opened                   1   \n",
       "15880                              The Fortunes of Garin                   0   \n",
       "15881  Free Trapper's Pass; or, the Gold-seeker's Dau...                   0   \n",
       "15882            Rank and Talent; A Novel, Vol. 1 (of 3)                   0   \n",
       "15883                                 The Touch of Abner                   0   \n",
       "15884  The Motor Boys Bound for Home; or, Ned, Bob an...                   1   \n",
       "\n",
       "       ch_s2  \n",
       "0          0  \n",
       "1          1  \n",
       "2          0  \n",
       "3          0  \n",
       "4          0  \n",
       "5          1  \n",
       "6          0  \n",
       "7          0  \n",
       "8          0  \n",
       "9          0  \n",
       "10         1  \n",
       "11         0  \n",
       "12         1  \n",
       "13         0  \n",
       "14         0  \n",
       "15         1  \n",
       "16         1  \n",
       "17         0  \n",
       "18         0  \n",
       "19         0  \n",
       "20         0  \n",
       "21         0  \n",
       "22         0  \n",
       "23         1  \n",
       "24         1  \n",
       "25         0  \n",
       "26         0  \n",
       "27         0  \n",
       "28         0  \n",
       "29         0  \n",
       "...      ...  \n",
       "15855      0  \n",
       "15856      0  \n",
       "15857      0  \n",
       "15858      0  \n",
       "15859      1  \n",
       "15860      0  \n",
       "15861      1  \n",
       "15862      0  \n",
       "15863      1  \n",
       "15864      1  \n",
       "15865      1  \n",
       "15866      0  \n",
       "15867      0  \n",
       "15868      0  \n",
       "15869      0  \n",
       "15870      0  \n",
       "15871      1  \n",
       "15872      1  \n",
       "15873      0  \n",
       "15874      1  \n",
       "15875      0  \n",
       "15876      1  \n",
       "15877      1  \n",
       "15878      1  \n",
       "15879      1  \n",
       "15880      0  \n",
       "15881      0  \n",
       "15882      0  \n",
       "15883      0  \n",
       "15884      1  \n",
       "\n",
       "[15885 rows x 3 columns]"
      ]
     },
     "execution_count": 16,
     "metadata": {},
     "output_type": "execute_result"
    }
   ],
   "source": [
    "meta_stats[['title', 'childrens_subjects', 'ch_s2']]"
   ]
  },
  {
   "cell_type": "code",
   "execution_count": 45,
   "metadata": {
    "collapsed": false
   },
   "outputs": [],
   "source": [
    "y = meta_stats['childrens_subjects']\n",
    "X = meta_stats[['downloads',\n",
    "       'character_count', 'word_count', 'sentence_count', 'syllable_count',\n",
    "       'avg_sentence_length', 'avg_syllables_per_word', 'dialogue',\n",
    "       'dialogue_per_sentence']]"
   ]
  },
  {
   "cell_type": "code",
   "execution_count": 46,
   "metadata": {
    "collapsed": false
   },
   "outputs": [
    {
     "name": "stdout",
     "output_type": "stream",
     "text": [
      "Fitting 3 folds for each of 200 candidates, totalling 600 fits\n",
      "Best Params {'penalty': 'l2', 'C': 0.14313131313131314, 'solver': 'liblinear'}\n",
      "Best Score 0.772483472621\n"
     ]
    },
    {
     "name": "stderr",
     "output_type": "stream",
     "text": [
      "[Parallel(n_jobs=1)]: Done 600 out of 600 | elapsed:  1.8min finished\n"
     ]
    }
   ],
   "source": [
    "from sklearn.linear_model import LogisticRegression\n",
    "from sklearn.preprocessing import StandardScaler\n",
    "from sklearn.model_selection import train_test_split, cross_val_score, cross_val_predict, GridSearchCV\n",
    "from sklearn import metrics\n",
    "\n",
    "ss = StandardScaler()\n",
    "\n",
    "X_n = ss.fit_transform(X)\n",
    "\n",
    "X_train, X_test, y_train, y_test = train_test_split(X_n, y, test_size = 0.5)\n",
    "\n",
    "params = {\n",
    "    'penalty':['l1', 'l2'],        # l1 is Lasso, l2 is Ridge\n",
    "    'solver':['liblinear'],\n",
    "    'C': np.linspace(0.002,1,100)\n",
    "}\n",
    "\n",
    "lr = LogisticRegression()\n",
    "lr_gs = GridSearchCV(lr, params, cv=3, verbose=1).fit(X_train, y_train)\n",
    "\n",
    "print \"Best Params\", lr_gs.best_params_\n",
    "print \"Best Score\", lr_gs.best_score_"
   ]
  },
  {
   "cell_type": "code",
   "execution_count": 51,
   "metadata": {
    "collapsed": false
   },
   "outputs": [
    {
     "data": {
      "text/plain": [
       "0.7431867789211101"
      ]
     },
     "execution_count": 51,
     "metadata": {},
     "output_type": "execute_result"
    }
   ],
   "source": [
    "1 - float(y.sum())/y.count()"
   ]
  },
  {
   "cell_type": "code",
   "execution_count": 47,
   "metadata": {
    "collapsed": false
   },
   "outputs": [
    {
     "data": {
      "text/plain": [
       "0.77201297081566478"
      ]
     },
     "execution_count": 47,
     "metadata": {},
     "output_type": "execute_result"
    }
   ],
   "source": [
    "lr = LogisticRegression(penalty = 'l2', C = 0.14313131313131314, solver = 'liblinear')\n",
    "lr.fit(X_train, y_train)\n",
    "lr.score(X_test, y_test)"
   ]
  },
  {
   "cell_type": "code",
   "execution_count": 52,
   "metadata": {
    "collapsed": false
   },
   "outputs": [
    {
     "data": {
      "text/html": [
       "<div>\n",
       "<table border=\"1\" class=\"dataframe\">\n",
       "  <thead>\n",
       "    <tr style=\"text-align: right;\">\n",
       "      <th></th>\n",
       "      <th>coef</th>\n",
       "      <th>variable</th>\n",
       "    </tr>\n",
       "  </thead>\n",
       "  <tbody>\n",
       "    <tr>\n",
       "      <th>0</th>\n",
       "      <td>-0.640150</td>\n",
       "      <td>downloads</td>\n",
       "    </tr>\n",
       "    <tr>\n",
       "      <th>1</th>\n",
       "      <td>0.278390</td>\n",
       "      <td>character_count</td>\n",
       "    </tr>\n",
       "    <tr>\n",
       "      <th>2</th>\n",
       "      <td>-0.348823</td>\n",
       "      <td>word_count</td>\n",
       "    </tr>\n",
       "    <tr>\n",
       "      <th>3</th>\n",
       "      <td>-0.695552</td>\n",
       "      <td>sentence_count</td>\n",
       "    </tr>\n",
       "    <tr>\n",
       "      <th>4</th>\n",
       "      <td>-0.291614</td>\n",
       "      <td>syllable_count</td>\n",
       "    </tr>\n",
       "    <tr>\n",
       "      <th>5</th>\n",
       "      <td>0.057966</td>\n",
       "      <td>avg_sentence_length</td>\n",
       "    </tr>\n",
       "    <tr>\n",
       "      <th>6</th>\n",
       "      <td>-0.918145</td>\n",
       "      <td>avg_syllables_per_word</td>\n",
       "    </tr>\n",
       "    <tr>\n",
       "      <th>7</th>\n",
       "      <td>0.367497</td>\n",
       "      <td>dialogue</td>\n",
       "    </tr>\n",
       "    <tr>\n",
       "      <th>8</th>\n",
       "      <td>0.138839</td>\n",
       "      <td>dialogue_per_sentence</td>\n",
       "    </tr>\n",
       "  </tbody>\n",
       "</table>\n",
       "</div>"
      ],
      "text/plain": [
       "       coef                variable\n",
       "0 -0.640150               downloads\n",
       "1  0.278390         character_count\n",
       "2 -0.348823              word_count\n",
       "3 -0.695552          sentence_count\n",
       "4 -0.291614          syllable_count\n",
       "5  0.057966     avg_sentence_length\n",
       "6 -0.918145  avg_syllables_per_word\n",
       "7  0.367497                dialogue\n",
       "8  0.138839   dialogue_per_sentence"
      ]
     },
     "execution_count": 52,
     "metadata": {},
     "output_type": "execute_result"
    }
   ],
   "source": [
    "coef = pd.DataFrame({\n",
    "        'variable':X.columns,\n",
    "        'coef':lr.coef_[0]\n",
    "    })\n",
    "\n",
    "coef"
   ]
  },
  {
   "cell_type": "code",
   "execution_count": 53,
   "metadata": {
    "collapsed": false
   },
   "outputs": [
    {
     "data": {
      "text/plain": [
       "<matplotlib.axes._subplots.AxesSubplot at 0x11bdd74d0>"
      ]
     },
     "execution_count": 53,
     "metadata": {},
     "output_type": "execute_result"
    },
    {
     "data": {
      "image/png": "[encoded data removed]",
      "text/plain": [
       "<matplotlib.figure.Figure at 0x11bdd7510>"
      ]
     },
     "metadata": {},
     "output_type": "display_data"
    }
   ],
   "source": [
    "fig, ax = plt.subplots(figsize=(4,4))\n",
    "\n",
    "sns.barplot(y = coef.variable, x = np.abs(coef.coef), data=coef,\n",
    "           ax=ax\n",
    "          )"
   ]
  },
  {
   "cell_type": "code",
   "execution_count": 54,
   "metadata": {
    "collapsed": false,
    "scrolled": true
   },
   "outputs": [
    {
     "name": "stdout",
     "output_type": "stream",
     "text": [
      "Confusion matrix, without normalization\n",
      "[[5602  358]\n",
      " [1470  588]]\n",
      "Normalized confusion matrix\n",
      "[[ 0.94  0.06]\n",
      " [ 0.71  0.29]]\n"
     ]
    },
    {
     "data": {
      "image/png": "[encoded data removed]",
      "text/plain": [
       "<matplotlib.figure.Figure at 0x11bd095d0>"
      ]
     },
     "metadata": {},
     "output_type": "display_data"
    },
    {
     "data": {
      "image/png": "[encoded data removed]",
      "text/plain": [
       "<matplotlib.figure.Figure at 0x11bdd7a10>"
      ]
     },
     "metadata": {},
     "output_type": "display_data"
    }
   ],
   "source": [
    "import itertools\n",
    "import numpy as np\n",
    "import matplotlib.pyplot as plt\n",
    "\n",
    "from sklearn import svm, datasets\n",
    "from sklearn.model_selection import train_test_split\n",
    "from sklearn.metrics import confusion_matrix\n",
    "\n",
    "# import some data to play with\n",
    "y_pred = lr.predict(X_test)\n",
    "\n",
    "def plot_confusion_matrix(cm, classes,\n",
    "                          normalize=False,\n",
    "                          title='Confusion matrix',\n",
    "                          cmap=plt.cm.Blues):\n",
    "    \"\"\"\n",
    "    This function prints and plots the confusion matrix.\n",
    "    Normalization can be applied by setting `normalize=True`.\n",
    "    \"\"\"\n",
    "    plt.imshow(cm, interpolation='nearest', cmap=cmap)\n",
    "    plt.title(title)\n",
    "    plt.colorbar()\n",
    "    tick_marks = np.arange(len(classes))\n",
    "    plt.xticks(tick_marks, classes, rotation=45)\n",
    "    plt.yticks(tick_marks, classes)\n",
    "\n",
    "    if normalize:\n",
    "        cm = cm.astype('float') / cm.sum(axis=1)[:, np.newaxis]\n",
    "        print(\"Normalized confusion matrix\")\n",
    "    else:\n",
    "        print('Confusion matrix, without normalization')\n",
    "\n",
    "    print(cm)\n",
    "\n",
    "    thresh = cm.max() / 2.\n",
    "    for i, j in itertools.product(range(cm.shape[0]), range(cm.shape[1])):\n",
    "        plt.text(j, i, cm[i, j],\n",
    "                 horizontalalignment=\"center\",\n",
    "                 color=\"white\" if cm[i, j] > thresh else \"black\")\n",
    "\n",
    "    plt.tight_layout()\n",
    "    plt.ylabel('True label')\n",
    "    plt.xlabel('Predicted label')\n",
    "\n",
    "# Compute confusion matrix\n",
    "cnf_matrix = confusion_matrix(y_test, y_pred)\n",
    "np.set_printoptions(precision=2)\n",
    "\n",
    "# Plot non-normalized confusion matrix\n",
    "plt.figure()\n",
    "plot_confusion_matrix(cnf_matrix, classes=['adult', 'child'],\n",
    "                      title='Confusion matrix, without normalization')\n",
    "\n",
    "# Plot normalized confusion matrix\n",
    "plt.figure()\n",
    "plot_confusion_matrix(cnf_matrix, classes=['adult', 'child'], normalize=True,\n",
    "                      title='Normalized confusion matrix')\n",
    "\n",
    "plt.show()"
   ]
  },
  {
   "cell_type": "code",
   "execution_count": null,
   "metadata": {
    "collapsed": true
   },
   "outputs": [],
   "source": []
  }
 ],
 "metadata": {
  "anaconda-cloud": {},
  "kernelspec": {
   "display_name": "Python [dsi]",
   "language": "python",
   "name": "Python [dsi]"
  },
  "language_info": {
   "codemirror_mode": {
    "name": "ipython",
    "version": 2
   },
   "file_extension": ".py",
   "mimetype": "text/x-python",
   "name": "python",
   "nbconvert_exporter": "python",
   "pygments_lexer": "ipython2",
   "version": "2.7.12"
  }
 },
 "nbformat": 4,
 "nbformat_minor": 0
}
